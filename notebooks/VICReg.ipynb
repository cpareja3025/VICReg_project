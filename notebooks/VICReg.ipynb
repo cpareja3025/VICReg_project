{
 "cells": [
  {
   "cell_type": "code",
   "execution_count": 2,
   "metadata": {},
   "outputs": [],
   "source": [
    "import torch\n",
    "import torch.nn as nn\n",
    "import torch.nn.functional as F\n",
    "import torchvision\n",
    "import torchvision.transforms as transforms\n",
    "import numpy as np\n",
    "import pandas as pd\n",
    "from torch.utils.data import DataLoader, Dataset, random_split\n",
    "from torch.utils.data import random_split\n",
    "import matplotlib.pyplot as plt\n",
    "from torchinfo import summary"
   ]
  },
  {
   "cell_type": "code",
   "execution_count": 2,
   "metadata": {},
   "outputs": [
    {
     "name": "stdout",
     "output_type": "stream",
     "text": [
      "5\n"
     ]
    },
    {
     "data": {
      "text/plain": [
       "<matplotlib.image.AxesImage at 0x7fb27909faf0>"
      ]
     },
     "execution_count": 2,
     "metadata": {},
     "output_type": "execute_result"
    },
    {
     "data": {
      "image/png": "[encoded data removed]",
      "text/plain": [
       "<Figure size 432x288 with 1 Axes>"
      ]
     },
     "metadata": {
      "needs_background": "light"
     },
     "output_type": "display_data"
    }
   ],
   "source": [
    "train_dataset = torchvision.datasets.MNIST(root=\"./\", train=True, download=True)\n",
    "image, label = train_dataset[11]\n",
    "print(label)\n",
    "plt.imshow(image, cmap=\"gray\")\n",
    "a = transforms.Resize(252)(image)\n",
    "plt.imshow(a, cmap=\"gray\")"
   ]
  },
  {
   "attachments": {},
   "cell_type": "markdown",
   "metadata": {},
   "source": [
    "# Training Vanilla CNN for MNIST Data"
   ]
  },
  {
   "cell_type": "code",
   "execution_count": 4,
   "metadata": {},
   "outputs": [
    {
     "name": "stdout",
     "output_type": "stream",
     "text": [
      "Epoch [1/1], Step [100/1875], Loss: 0.6733 \n",
      "Epoch [1/1], Step [200/1875], Loss: 0.2787 \n",
      "Epoch [1/1], Step [300/1875], Loss: 0.3791 \n",
      "Epoch [1/1], Step [400/1875], Loss: 0.3074 \n",
      "Epoch [1/1], Step [500/1875], Loss: 0.1071 \n",
      "Epoch [1/1], Step [600/1875], Loss: 0.1207 \n",
      "Epoch [1/1], Step [700/1875], Loss: 0.1889 \n",
      "Epoch [1/1], Step [800/1875], Loss: 0.4430 \n",
      "Epoch [1/1], Step [900/1875], Loss: 0.2902 \n",
      "Epoch [1/1], Step [1000/1875], Loss: 0.1656 \n",
      "Epoch [1/1], Step [1100/1875], Loss: 0.0938 \n",
      "Epoch [1/1], Step [1200/1875], Loss: 0.2238 \n",
      "Epoch [1/1], Step [1300/1875], Loss: 0.0591 \n",
      "Epoch [1/1], Step [1400/1875], Loss: 0.0747 \n",
      "Epoch [1/1], Step [1500/1875], Loss: 0.1415 \n",
      "Epoch [1/1], Step [1600/1875], Loss: 0.0189 \n",
      "Epoch [1/1], Step [1700/1875], Loss: 0.0102 \n",
      "Epoch [1/1], Step [1800/1875], Loss: 0.0465 \n"
     ]
    }
   ],
   "source": [
    "#Hyper Parameters\n",
    "batch_size = 32\n",
    "learning_rate = 0.001\n",
    "epochs = 1\n",
    "device = torch.device('cuda' if torch.cuda.is_available() else 'cpu')\n",
    "\n",
    "transform = transforms.Compose([transforms.ToTensor(), transforms.Normalize(mean=0.1307, std=0.3081)])\n",
    "train_dataset = torchvision.datasets.MNIST(root=\"./\", train=True, download=True, transform=transform)\n",
    "test_dataset = torchvision.datasets.MNIST(root=\"./\", train=False, download=True, transform=transform)\n",
    "train_loader = DataLoader(train_dataset, batch_size=batch_size, shuffle=True)\n",
    "test_loader = DataLoader(test_dataset, batch_size=batch_size, shuffle=True)\n",
    "\n",
    "class CNN(nn.Module):\n",
    "    def __init__(self):\n",
    "        super(CNN, self).__init__()\n",
    "        self.conv1 = nn.Conv2d(1, 12, kernel_size=1)\n",
    "        self.conv2 = nn.Conv2d(12, 6, kernel_size=3)\n",
    "        self.max_pool = nn.MaxPool2d(2, 2)\n",
    "        self.fc1 = nn.Linear(1014, 256)\n",
    "        self.fc2 = nn.Linear(256, 128)\n",
    "        self.fc3 = nn.Linear(128,10)\n",
    "\n",
    "    def forward(self, x):\n",
    "        x = F.relu(self.conv1(x))\n",
    "        x = F.relu(self.conv2(x))\n",
    "        x = self.max_pool(x)\n",
    "        x = x.view(-1, 1014)\n",
    "        x = F.relu(self.fc1(x))\n",
    "        x = F.relu(self.fc2(x))\n",
    "        x = self.fc3(x)\n",
    "        return x\n",
    "    \n",
    "model = CNN().to(device=device)\n",
    "criterion = nn.CrossEntropyLoss()\n",
    "optimizer = torch.optim.Adam(model.parameters(), lr = learning_rate)\n",
    "\n",
    "n_total_steps = len(train_loader)\n",
    "for epoch in range(epochs):\n",
    "    for i, (images, labels) in enumerate(train_loader):\n",
    "        images = images.to(device)\n",
    "        labels = labels.to(device)\n",
    "\n",
    "        outputs = model(images)\n",
    "        loss = criterion(outputs, labels)\n",
    "\n",
    "        optimizer.zero_grad()\n",
    "        loss.backward()\n",
    "        optimizer.step()\n",
    "\n",
    "        if (i+1) % 100 == 0:\n",
    "            print(f'Epoch [{epoch+1}/{epochs}], Step [{i+1}/{n_total_steps}], Loss: {loss.item():.4f} ')"
   ]
  },
  {
   "cell_type": "code",
   "execution_count": 8,
   "metadata": {},
   "outputs": [
    {
     "name": "stdout",
     "output_type": "stream",
     "text": [
      "torch.Size([128, 1, 20, 20])\n",
      "Tensor shape after first Conv Layer: torch.Size([128, 8, 20, 20]) \n",
      "Tensor shape after first MaxPool Layer: torch.Size([128, 8, 10, 10])\n",
      "Tensor shape after second Conv Layer: torch.Size([128, 16, 8, 8])\n",
      "Tensor shape after MaxPool Layer: torch.Size([128, 16, 4, 4])\n",
      "Tensor shape after third Conv Layer: torch.Size([128, 32, 3, 3])\n",
      "Tensor shape after third maxpool layer: torch.Size([128, 32, 1, 1])\n",
      "torch.Size([128, 32])\n",
      "Tensor shape after first FC Layer: torch.Size([128, 64])\n",
      "Tensor shape after second FC Layer: torch.Size([128, 64])\n",
      "Tensor shape after third FC Layer: torch.Size([128, 64])\n"
     ]
    }
   ],
   "source": [
    "def data_aug(img_tensor):\n",
    "    aug = transforms.RandomResizedCrop(20, scale=(0.08,0.1))(img_tensor)\n",
    "    aug = transforms.RandomHorizontalFlip(p=0.5)(aug)\n",
    "    aug = transforms.ColorJitter(brightness=0.4, contrast=0.4, saturation=0.2, hue=0.1)(aug)\n",
    "    #aug = transforms.RandomGrayscale(0.2)(aug)\n",
    "    aug = transforms.GaussianBlur(kernel_size=23, sigma=0.5)(aug)\n",
    "    aug = transforms.RandomSolarize(threshold=0.3,p=0.1)(aug)\n",
    "    #aug = transforms.Normalize()(aug)\n",
    "    return aug\n",
    "    \n",
    "\n",
    "N = 128\n",
    "data = torch.rand(N,1,20,20)\n",
    "data = data_aug(data)\n",
    "print(data.shape)\n",
    "max_pool = nn.MaxPool2d(2, 2)\n",
    "conv1 = nn.Conv2d(1, 8, kernel_size=1)\n",
    "conv2 = nn.Conv2d(8, 16, kernel_size=3)\n",
    "conv3 = nn.Conv2d(16, 32, kernel_size=2)\n",
    "x = conv1(data)\n",
    "print(f\"Tensor shape after first Conv Layer: {x.shape} \")\n",
    "x = max_pool(x)\n",
    "print(f\"Tensor shape after first MaxPool Layer: {x.shape}\")\n",
    "x = conv2(x)\n",
    "print(f\"Tensor shape after second Conv Layer: {x.shape}\")\n",
    "x = max_pool(x)\n",
    "print(f\"Tensor shape after MaxPool Layer: {x.shape}\")\n",
    "x = conv3(x)\n",
    "print(f\"Tensor shape after third Conv Layer: {x.shape}\")\n",
    "x = max_pool(x)\n",
    "print(f\"Tensor shape after third maxpool layer: {x.shape}\")\n",
    "x = x.view(-1,32)\n",
    "print(x.shape)\n",
    "fc1 = nn.Linear(32, 64)\n",
    "x = fc1(x)\n",
    "print(f\"Tensor shape after first FC Layer: {x.shape}\")\n",
    "fc2 = nn.Linear(64, 64)\n",
    "x = fc2(x)\n",
    "print(f\"Tensor shape after second FC Layer: {x.shape}\")\n",
    "fc3 = nn.Linear(64,64)\n",
    "x = fc3(x)\n",
    "print(f\"Tensor shape after third FC Layer: {x.shape}\")"
   ]
  },
  {
   "attachments": {},
   "cell_type": "markdown",
   "metadata": {},
   "source": [
    "## Testing Torch Augmentations"
   ]
  },
  {
   "cell_type": "code",
   "execution_count": 2,
   "metadata": {},
   "outputs": [
    {
     "name": "stdout",
     "output_type": "stream",
     "text": [
      "Epoch [1/1], Step [100/1875], Loss: 2.2539 \n",
      "Epoch [1/1], Step [200/1875], Loss: 2.2798 \n",
      "Epoch [1/1], Step [300/1875], Loss: 2.2814 \n",
      "Epoch [1/1], Step [400/1875], Loss: 2.3661 \n",
      "Epoch [1/1], Step [500/1875], Loss: 2.3582 \n",
      "Epoch [1/1], Step [600/1875], Loss: 2.2475 \n",
      "Epoch [1/1], Step [700/1875], Loss: 2.1221 \n",
      "Epoch [1/1], Step [800/1875], Loss: 2.1294 \n",
      "Epoch [1/1], Step [900/1875], Loss: 2.3177 \n",
      "Epoch [1/1], Step [1000/1875], Loss: 2.2029 \n",
      "Epoch [1/1], Step [1100/1875], Loss: 2.3276 \n",
      "Epoch [1/1], Step [1200/1875], Loss: 2.2218 \n",
      "Epoch [1/1], Step [1300/1875], Loss: 2.1991 \n",
      "Epoch [1/1], Step [1400/1875], Loss: 2.2426 \n",
      "Epoch [1/1], Step [1500/1875], Loss: 2.2101 \n",
      "Epoch [1/1], Step [1600/1875], Loss: 2.3050 \n",
      "Epoch [1/1], Step [1700/1875], Loss: 2.2028 \n",
      "Epoch [1/1], Step [1800/1875], Loss: 2.1002 \n"
     ]
    }
   ],
   "source": [
    "#Hyper Parameters\n",
    "batch_size = 32\n",
    "learning_rate = 0.001\n",
    "epochs = 1\n",
    "\n",
    "transform = transforms.Compose([transforms.ToTensor(), transforms.Normalize(mean=0.1307, std=0.3081)])\n",
    "train_dataset = torchvision.datasets.MNIST(root=\"./\", train=True, download=True, transform=transform)\n",
    "test_dataset = torchvision.datasets.MNIST(root=\"./\", train=False, download=True, transform=transform)\n",
    "train_loader = DataLoader(train_dataset, batch_size=batch_size, shuffle=True)\n",
    "test_loader = DataLoader(test_dataset, batch_size=batch_size, shuffle=True)\n",
    "\n",
    "device = torch.device('cuda' if torch.cuda.is_available() else 'cpu')\n",
    "\n",
    "\n",
    "class CNN_augs(nn.Module):\n",
    "    def __init__(self):\n",
    "        super(CNN_augs, self).__init__()\n",
    "        self.conv1 = nn.Conv2d(1, 12, kernel_size=1)\n",
    "        self.conv2 = nn.Conv2d(12, 6, kernel_size=3)\n",
    "        self.max_pool = nn.MaxPool2d(2, 2)\n",
    "        self.fc1 = nn.Linear(486, 256)\n",
    "        self.fc2 = nn.Linear(256, 128)\n",
    "        # change output channels to multiples of 2 --> maybe 16, 32??\n",
    "        self.fc3 = nn.Linear(128,10)\n",
    "\n",
    "    def forward(self, x):\n",
    "        x = F.relu(self.conv1(x))\n",
    "        x = F.relu(self.conv2(x))\n",
    "        x = self.max_pool(x)\n",
    "        x = x.view(-1,486)\n",
    "        x = F.relu(self.fc1(x))\n",
    "        x = F.relu(self.fc2(x))\n",
    "        x = self.fc3(x)\n",
    "        return x\n",
    "    def data_aug(self, img_tensor):\n",
    "        aug = transforms.RandomResizedCrop(20, scale=(0.08,0.1))(img_tensor)\n",
    "        aug = transforms.RandomHorizontalFlip(p=0.5)(aug)\n",
    "        aug = transforms.ColorJitter(brightness=0.4, contrast=0.4, saturation=0.2, hue=0.1)(aug)\n",
    "        #aug = transforms.RandomGrayscale(0.2)(aug)\n",
    "        aug = transforms.GaussianBlur(kernel_size=23, sigma=0.5)(aug)\n",
    "        aug = transforms.RandomSolarize(threshold=0.3,p=0.1)(aug)\n",
    "        #aug = transforms.Normalize()(aug)\n",
    "        return aug\n",
    "    \n",
    "\n",
    "model = CNN_augs().to(device=device)\n",
    "criterion = nn.CrossEntropyLoss()\n",
    "optimizer = torch.optim.Adam(model.parameters(), lr = learning_rate)\n",
    "\n",
    "n_total_steps = len(train_loader)\n",
    "for epoch in range(epochs):\n",
    "    for i, (images, labels) in enumerate(train_loader):\n",
    "        images = images.to(device)\n",
    "        images = model.data_aug(images)\n",
    "        labels = labels.to(device)\n",
    "\n",
    "        outputs = model(images)\n",
    "        # compute loss between two different data augs!\n",
    "        loss = criterion(outputs, labels)\n",
    "\n",
    "        optimizer.zero_grad()\n",
    "        loss.backward()\n",
    "        optimizer.step()\n",
    "\n",
    "        if (i+1) % 100 == 0:\n",
    "            print(f'Epoch [{epoch+1}/{epochs}], Step [{i+1}/{n_total_steps}], Loss: {loss.item():.4f} ')"
   ]
  },
  {
   "cell_type": "code",
   "execution_count": 6,
   "metadata": {},
   "outputs": [
    {
     "data": {
      "text/plain": [
       "==========================================================================================\n",
       "Layer (type:depth-idx)                   Output Shape              Param #\n",
       "==========================================================================================\n",
       "CNN_augs                                 [128, 10]                 --\n",
       "├─Conv2d: 1-1                            [128, 12, 20, 20]         24\n",
       "├─Conv2d: 1-2                            [128, 6, 18, 18]          654\n",
       "├─MaxPool2d: 1-3                         [128, 6, 9, 9]            --\n",
       "├─Linear: 1-4                            [128, 256]                124,672\n",
       "├─Linear: 1-5                            [128, 128]                32,896\n",
       "├─Linear: 1-6                            [128, 10]                 1,290\n",
       "==========================================================================================\n",
       "Total params: 159,536\n",
       "Trainable params: 159,536\n",
       "Non-trainable params: 0\n",
       "Total mult-adds (M): 48.69\n",
       "==========================================================================================\n",
       "Input size (MB): 0.20\n",
       "Forward/backward pass size (MB): 7.31\n",
       "Params size (MB): 0.64\n",
       "Estimated Total Size (MB): 8.15\n",
       "=========================================================================================="
      ]
     },
     "execution_count": 6,
     "metadata": {},
     "output_type": "execute_result"
    }
   ],
   "source": [
    "model = CNN_augs().to(device=device)\n",
    "summary(model, input_size=[(batch_size, 1, 20, 20)])"
   ]
  },
  {
   "attachments": {},
   "cell_type": "markdown",
   "metadata": {},
   "source": [
    "# Implementing VICReg"
   ]
  },
  {
   "cell_type": "code",
   "execution_count": 3,
   "metadata": {},
   "outputs": [
    {
     "name": "stdout",
     "output_type": "stream",
     "text": [
      "Epoch [1/100], Step [100/938], Loss: 41.9917, Invariance Loss: 5.586684703826904, Variance Loss: 36.14483642578125. Covariance Loss: 0.26013171672821045\n",
      "Epoch [1/100], Step [200/938], Loss: 44.2474, Invariance Loss: 5.733484268188477, Variance Loss: 37.960880279541016. Covariance Loss: 0.553029477596283\n",
      "Epoch [1/100], Step [300/938], Loss: 41.5932, Invariance Loss: 5.386358261108398, Variance Loss: 35.76797866821289. Covariance Loss: 0.4388546049594879\n",
      "Epoch [1/100], Step [400/938], Loss: 39.9040, Invariance Loss: 7.209470748901367, Variance Loss: 31.754880905151367. Covariance Loss: 0.9396228194236755\n",
      "Epoch [1/100], Step [500/938], Loss: 41.4627, Invariance Loss: 2.357534408569336, Variance Loss: 39.00485610961914. Covariance Loss: 0.10026583075523376\n",
      "Epoch [1/100], Step [600/938], Loss: 41.0840, Invariance Loss: 10.071640014648438, Variance Loss: 30.256990432739258. Covariance Loss: 0.7553368806838989\n",
      "Epoch [1/100], Step [700/938], Loss: 40.1823, Invariance Loss: 8.423222541809082, Variance Loss: 31.107717514038086. Covariance Loss: 0.6513698101043701\n",
      "Epoch [1/100], Step [800/938], Loss: 43.5198, Invariance Loss: 4.267420291900635, Variance Loss: 38.94021224975586. Covariance Loss: 0.31217166781425476\n",
      "Epoch [1/100], Step [900/938], Loss: 43.5060, Invariance Loss: 6.34829044342041, Variance Loss: 36.80552673339844. Covariance Loss: 0.35214245319366455\n",
      "Epoch [2/100], Step [100/938], Loss: 39.7142, Invariance Loss: 9.975351333618164, Variance Loss: 28.756288528442383. Covariance Loss: 0.9825989007949829\n",
      "Epoch [2/100], Step [200/938], Loss: 39.1536, Invariance Loss: 8.269163131713867, Variance Loss: 30.056232452392578. Covariance Loss: 0.8282278180122375\n",
      "Epoch [2/100], Step [300/938], Loss: 40.0229, Invariance Loss: 6.582058429718018, Variance Loss: 33.10953903198242. Covariance Loss: 0.3312912881374359\n",
      "Epoch [2/100], Step [400/938], Loss: 36.6955, Invariance Loss: 6.41243839263916, Variance Loss: 29.776260375976562. Covariance Loss: 0.5067542791366577\n",
      "Epoch [2/100], Step [500/938], Loss: 38.3445, Invariance Loss: 8.471633911132812, Variance Loss: 29.103683471679688. Covariance Loss: 0.7691510915756226\n",
      "Epoch [2/100], Step [600/938], Loss: 38.4201, Invariance Loss: 8.051336288452148, Variance Loss: 29.676315307617188. Covariance Loss: 0.692400336265564\n",
      "Epoch [2/100], Step [700/938], Loss: 38.8243, Invariance Loss: 9.461101531982422, Variance Loss: 28.745746612548828. Covariance Loss: 0.6174578666687012\n",
      "Epoch [2/100], Step [800/938], Loss: 36.4089, Invariance Loss: 8.941649436950684, Variance Loss: 26.65833854675293. Covariance Loss: 0.8088782429695129\n",
      "Epoch [2/100], Step [900/938], Loss: 36.5669, Invariance Loss: 7.434721946716309, Variance Loss: 28.400569915771484. Covariance Loss: 0.7316005229949951\n",
      "Epoch [3/100], Step [100/938], Loss: 39.9397, Invariance Loss: 11.238081932067871, Variance Loss: 28.02544593811035. Covariance Loss: 0.6761683821678162\n",
      "Epoch [3/100], Step [200/938], Loss: 39.3601, Invariance Loss: 11.668169021606445, Variance Loss: 26.71462631225586. Covariance Loss: 0.9772874712944031\n",
      "Epoch [3/100], Step [300/938], Loss: 37.8847, Invariance Loss: 7.7419562339782715, Variance Loss: 29.55674171447754. Covariance Loss: 0.5859959125518799\n",
      "Epoch [3/100], Step [400/938], Loss: 39.2884, Invariance Loss: 8.445169448852539, Variance Loss: 30.124935150146484. Covariance Loss: 0.7182879447937012\n",
      "Epoch [3/100], Step [500/938], Loss: 36.6599, Invariance Loss: 7.935208320617676, Variance Loss: 28.09833526611328. Covariance Loss: 0.626368522644043\n",
      "Epoch [3/100], Step [600/938], Loss: 39.8260, Invariance Loss: 11.029452323913574, Variance Loss: 28.07208824157715. Covariance Loss: 0.7244876623153687\n",
      "Epoch [3/100], Step [700/938], Loss: 39.1206, Invariance Loss: 8.20105266571045, Variance Loss: 30.390666961669922. Covariance Loss: 0.528895378112793\n",
      "Epoch [3/100], Step [800/938], Loss: 38.3105, Invariance Loss: 6.593935012817383, Variance Loss: 31.363292694091797. Covariance Loss: 0.3532826900482178\n",
      "Epoch [3/100], Step [900/938], Loss: 39.3971, Invariance Loss: 12.130861282348633, Variance Loss: 26.48137855529785. Covariance Loss: 0.7849029898643494\n",
      "Epoch [4/100], Step [100/938], Loss: 39.6684, Invariance Loss: 8.11234188079834, Variance Loss: 31.141340255737305. Covariance Loss: 0.4147148132324219\n",
      "Epoch [4/100], Step [200/938], Loss: 39.8428, Invariance Loss: 9.192721366882324, Variance Loss: 29.999250411987305. Covariance Loss: 0.650878369808197\n",
      "Epoch [4/100], Step [300/938], Loss: 38.8456, Invariance Loss: 9.703205108642578, Variance Loss: 28.658157348632812. Covariance Loss: 0.48421308398246765\n",
      "Epoch [4/100], Step [400/938], Loss: 37.8570, Invariance Loss: 10.253722190856934, Variance Loss: 26.834375381469727. Covariance Loss: 0.7689229249954224\n",
      "Epoch [4/100], Step [500/938], Loss: 39.0047, Invariance Loss: 8.306161880493164, Variance Loss: 30.08037567138672. Covariance Loss: 0.6181458234786987\n",
      "Epoch [4/100], Step [600/938], Loss: 40.3210, Invariance Loss: 9.157960891723633, Variance Loss: 30.73454475402832. Covariance Loss: 0.42852556705474854\n",
      "Epoch [4/100], Step [700/938], Loss: 41.3401, Invariance Loss: 13.222518920898438, Variance Loss: 26.763525009155273. Covariance Loss: 1.3540695905685425\n",
      "Epoch [4/100], Step [800/938], Loss: 38.1492, Invariance Loss: 10.461369514465332, Variance Loss: 26.841127395629883. Covariance Loss: 0.8467320203781128\n",
      "Epoch [4/100], Step [900/938], Loss: 38.4571, Invariance Loss: 11.038065910339355, Variance Loss: 26.739715576171875. Covariance Loss: 0.6793562173843384\n",
      "Epoch [5/100], Step [100/938], Loss: 39.8654, Invariance Loss: 11.654202461242676, Variance Loss: 26.723209381103516. Covariance Loss: 1.4879813194274902\n",
      "Epoch [5/100], Step [200/938], Loss: 38.2185, Invariance Loss: 10.029413223266602, Variance Loss: 27.61838150024414. Covariance Loss: 0.5706994533538818\n",
      "Epoch [5/100], Step [300/938], Loss: 38.3338, Invariance Loss: 9.016572952270508, Variance Loss: 28.836647033691406. Covariance Loss: 0.4805631935596466\n",
      "Epoch [5/100], Step [400/938], Loss: 34.0212, Invariance Loss: 7.700087070465088, Variance Loss: 24.962186813354492. Covariance Loss: 1.358900547027588\n",
      "Epoch [5/100], Step [500/938], Loss: 37.1297, Invariance Loss: 7.441869258880615, Variance Loss: 28.942829132080078. Covariance Loss: 0.7450090050697327\n",
      "Epoch [5/100], Step [600/938], Loss: 39.7612, Invariance Loss: 7.671548366546631, Variance Loss: 31.73338508605957. Covariance Loss: 0.356225848197937\n",
      "Epoch [5/100], Step [700/938], Loss: 39.5797, Invariance Loss: 8.192378997802734, Variance Loss: 31.104740142822266. Covariance Loss: 0.28261470794677734\n",
      "Epoch [5/100], Step [800/938], Loss: 39.4967, Invariance Loss: 8.740631103515625, Variance Loss: 30.247974395751953. Covariance Loss: 0.5080707669258118\n",
      "Epoch [5/100], Step [900/938], Loss: 37.6024, Invariance Loss: 9.656611442565918, Variance Loss: 27.131515502929688. Covariance Loss: 0.8142538666725159\n",
      "Epoch [6/100], Step [100/938], Loss: 38.4776, Invariance Loss: 12.024603843688965, Variance Loss: 25.52456283569336. Covariance Loss: 0.9284211993217468\n",
      "Epoch [6/100], Step [200/938], Loss: 38.2464, Invariance Loss: 9.51760482788086, Variance Loss: 28.188251495361328. Covariance Loss: 0.5405246019363403\n",
      "Epoch [6/100], Step [300/938], Loss: 38.3338, Invariance Loss: 9.813050270080566, Variance Loss: 27.83355140686035. Covariance Loss: 0.6871681809425354\n",
      "Epoch [6/100], Step [400/938], Loss: 36.4479, Invariance Loss: 6.730812072753906, Variance Loss: 28.73316192626953. Covariance Loss: 0.9839063286781311\n",
      "Epoch [6/100], Step [500/938], Loss: 39.0038, Invariance Loss: 11.054021835327148, Variance Loss: 27.005016326904297. Covariance Loss: 0.9448012113571167\n",
      "Epoch [6/100], Step [600/938], Loss: 36.1872, Invariance Loss: 9.781453132629395, Variance Loss: 25.42914390563965. Covariance Loss: 0.9766510725021362\n",
      "Epoch [6/100], Step [700/938], Loss: 38.8431, Invariance Loss: 9.077423095703125, Variance Loss: 29.167753219604492. Covariance Loss: 0.597968578338623\n",
      "Epoch [6/100], Step [800/938], Loss: 38.2824, Invariance Loss: 11.065509796142578, Variance Loss: 26.700016021728516. Covariance Loss: 0.5169169902801514\n",
      "Epoch [6/100], Step [900/938], Loss: 39.1633, Invariance Loss: 14.277799606323242, Variance Loss: 23.7791748046875. Covariance Loss: 1.1063227653503418\n",
      "Epoch [7/100], Step [100/938], Loss: 38.1747, Invariance Loss: 9.008708000183105, Variance Loss: 28.524898529052734. Covariance Loss: 0.6410582065582275\n",
      "Epoch [7/100], Step [200/938], Loss: 38.1034, Invariance Loss: 8.281267166137695, Variance Loss: 29.431068420410156. Covariance Loss: 0.3910554051399231\n",
      "Epoch [7/100], Step [300/938], Loss: 38.4262, Invariance Loss: 10.944981575012207, Variance Loss: 26.941650390625. Covariance Loss: 0.539612889289856\n",
      "Epoch [7/100], Step [400/938], Loss: 38.6354, Invariance Loss: 6.538680076599121, Variance Loss: 31.65201187133789. Covariance Loss: 0.44467630982398987\n",
      "Epoch [7/100], Step [500/938], Loss: 41.7105, Invariance Loss: 9.866044998168945, Variance Loss: 31.490766525268555. Covariance Loss: 0.3536614775657654\n",
      "Epoch [7/100], Step [600/938], Loss: 38.1250, Invariance Loss: 10.39529037475586, Variance Loss: 27.10812759399414. Covariance Loss: 0.6215890645980835\n",
      "Epoch [7/100], Step [700/938], Loss: 36.4508, Invariance Loss: 10.276195526123047, Variance Loss: 25.31505012512207. Covariance Loss: 0.8595561981201172\n",
      "Epoch [7/100], Step [800/938], Loss: 38.4985, Invariance Loss: 9.868823051452637, Variance Loss: 28.03763198852539. Covariance Loss: 0.5920554399490356\n",
      "Epoch [7/100], Step [900/938], Loss: 37.5650, Invariance Loss: 9.625802993774414, Variance Loss: 27.32465362548828. Covariance Loss: 0.6145209074020386\n",
      "Epoch [8/100], Step [100/938], Loss: 37.0594, Invariance Loss: 8.570298194885254, Variance Loss: 27.96246337890625. Covariance Loss: 0.5266261100769043\n",
      "Epoch [8/100], Step [200/938], Loss: 39.2564, Invariance Loss: 7.946992874145508, Variance Loss: 30.921640396118164. Covariance Loss: 0.38773563504219055\n",
      "Epoch [8/100], Step [300/938], Loss: 39.3503, Invariance Loss: 14.524385452270508, Variance Loss: 23.50379180908203. Covariance Loss: 1.3221064805984497\n",
      "Epoch [8/100], Step [400/938], Loss: 38.5084, Invariance Loss: 11.458592414855957, Variance Loss: 26.440692901611328. Covariance Loss: 0.6091368198394775\n",
      "Epoch [8/100], Step [500/938], Loss: 38.4965, Invariance Loss: 12.276330947875977, Variance Loss: 25.405067443847656. Covariance Loss: 0.8150805830955505\n",
      "Epoch [8/100], Step [600/938], Loss: 37.3240, Invariance Loss: 9.56225872039795, Variance Loss: 27.205652236938477. Covariance Loss: 0.5560658574104309\n",
      "Epoch [8/100], Step [700/938], Loss: 38.0634, Invariance Loss: 11.893386840820312, Variance Loss: 25.404041290283203. Covariance Loss: 0.7660001516342163\n",
      "Epoch [8/100], Step [800/938], Loss: 38.3246, Invariance Loss: 9.789962768554688, Variance Loss: 28.083389282226562. Covariance Loss: 0.4512426555156708\n",
      "Epoch [8/100], Step [900/938], Loss: 38.7245, Invariance Loss: 11.182037353515625, Variance Loss: 27.00337791442871. Covariance Loss: 0.5391013622283936\n",
      "Epoch [9/100], Step [100/938], Loss: 39.8153, Invariance Loss: 11.427577018737793, Variance Loss: 27.4664306640625. Covariance Loss: 0.9213330149650574\n",
      "Epoch [9/100], Step [200/938], Loss: 39.5008, Invariance Loss: 8.610038757324219, Variance Loss: 30.504301071166992. Covariance Loss: 0.386430561542511\n",
      "Epoch [9/100], Step [300/938], Loss: 39.7073, Invariance Loss: 11.037078857421875, Variance Loss: 27.880939483642578. Covariance Loss: 0.789312481880188\n",
      "Epoch [9/100], Step [400/938], Loss: 38.8081, Invariance Loss: 8.7664155960083, Variance Loss: 29.517257690429688. Covariance Loss: 0.5244150161743164\n",
      "Epoch [9/100], Step [500/938], Loss: 39.6997, Invariance Loss: 13.506056785583496, Variance Loss: 25.322359085083008. Covariance Loss: 0.8712997436523438\n",
      "Epoch [9/100], Step [600/938], Loss: 33.7722, Invariance Loss: 8.9006986618042, Variance Loss: 23.126558303833008. Covariance Loss: 1.7449617385864258\n",
      "Epoch [9/100], Step [700/938], Loss: 37.3041, Invariance Loss: 9.596774101257324, Variance Loss: 26.934892654418945. Covariance Loss: 0.7724069356918335\n",
      "Epoch [9/100], Step [800/938], Loss: 39.1647, Invariance Loss: 10.13066291809082, Variance Loss: 28.258651733398438. Covariance Loss: 0.7753679752349854\n",
      "Epoch [9/100], Step [900/938], Loss: 39.6493, Invariance Loss: 11.795620918273926, Variance Loss: 27.19883918762207. Covariance Loss: 0.6548882126808167\n",
      "Epoch [10/100], Step [100/938], Loss: 37.6950, Invariance Loss: 7.451955795288086, Variance Loss: 29.645139694213867. Covariance Loss: 0.5978754758834839\n",
      "Epoch [10/100], Step [200/938], Loss: 38.4398, Invariance Loss: 8.793341636657715, Variance Loss: 29.239177703857422. Covariance Loss: 0.40724050998687744\n",
      "Epoch [10/100], Step [300/938], Loss: 38.7303, Invariance Loss: 10.294045448303223, Variance Loss: 27.889591217041016. Covariance Loss: 0.5466755628585815\n",
      "Epoch [10/100], Step [400/938], Loss: 39.6554, Invariance Loss: 10.752153396606445, Variance Loss: 28.182523727416992. Covariance Loss: 0.7207227945327759\n",
      "Epoch [10/100], Step [500/938], Loss: 36.8775, Invariance Loss: 9.482441902160645, Variance Loss: 26.56186294555664. Covariance Loss: 0.8331633806228638\n",
      "Epoch [10/100], Step [600/938], Loss: 37.0991, Invariance Loss: 8.014854431152344, Variance Loss: 28.471874237060547. Covariance Loss: 0.6123595237731934\n",
      "Epoch [10/100], Step [700/938], Loss: 37.0683, Invariance Loss: 9.06292724609375, Variance Loss: 27.541547775268555. Covariance Loss: 0.4638134241104126\n",
      "Epoch [10/100], Step [800/938], Loss: 39.1767, Invariance Loss: 8.627988815307617, Variance Loss: 30.205211639404297. Covariance Loss: 0.34350866079330444\n",
      "Epoch [10/100], Step [900/938], Loss: 39.8380, Invariance Loss: 10.753735542297363, Variance Loss: 28.557147979736328. Covariance Loss: 0.5270688533782959\n",
      "Epoch [11/100], Step [100/938], Loss: 31.1736, Invariance Loss: 5.100818634033203, Variance Loss: 24.845197677612305. Covariance Loss: 1.2276091575622559\n",
      "Epoch [11/100], Step [200/938], Loss: 37.1450, Invariance Loss: 9.285618782043457, Variance Loss: 27.261140823364258. Covariance Loss: 0.5982035398483276\n",
      "Epoch [11/100], Step [300/938], Loss: 38.0368, Invariance Loss: 10.223193168640137, Variance Loss: 27.318775177001953. Covariance Loss: 0.4948151707649231\n",
      "Epoch [11/100], Step [400/938], Loss: 38.4820, Invariance Loss: 9.744963645935059, Variance Loss: 28.071489334106445. Covariance Loss: 0.665508508682251\n",
      "Epoch [11/100], Step [500/938], Loss: 39.0175, Invariance Loss: 10.85181713104248, Variance Loss: 27.181934356689453. Covariance Loss: 0.9837155342102051\n",
      "Epoch [11/100], Step [600/938], Loss: 36.1500, Invariance Loss: 7.245519638061523, Variance Loss: 28.4339542388916. Covariance Loss: 0.47056788206100464\n",
      "Epoch [11/100], Step [700/938], Loss: 34.7252, Invariance Loss: 10.588212013244629, Variance Loss: 22.602420806884766. Covariance Loss: 1.5345544815063477\n",
      "Epoch [11/100], Step [800/938], Loss: 39.0091, Invariance Loss: 10.346039772033691, Variance Loss: 28.196388244628906. Covariance Loss: 0.4666863679885864\n",
      "Epoch [11/100], Step [900/938], Loss: 37.8544, Invariance Loss: 10.520953178405762, Variance Loss: 26.494525909423828. Covariance Loss: 0.838923990726471\n",
      "Epoch [12/100], Step [100/938], Loss: 40.2712, Invariance Loss: 8.046802520751953, Variance Loss: 31.562393188476562. Covariance Loss: 0.6619995832443237\n",
      "Epoch [12/100], Step [200/938], Loss: 37.6321, Invariance Loss: 11.906285285949707, Variance Loss: 24.90135383605957. Covariance Loss: 0.8244627714157104\n"
     ]
    },
    {
     "ename": "KeyboardInterrupt",
     "evalue": "",
     "output_type": "error",
     "traceback": [
      "\u001b[0;31m---------------------------------------------------------------------------\u001b[0m",
      "\u001b[0;31mKeyboardInterrupt\u001b[0m                         Traceback (most recent call last)",
      "\u001b[1;32m/Users/cpare/repos/VICReg_project/VICReg.ipynb Cell 10\u001b[0m in \u001b[0;36m<module>\u001b[0;34m\u001b[0m\n\u001b[1;32m     <a href='vscode-notebook-cell:/Users/cpare/repos/VICReg_project/VICReg.ipynb#X12sZmlsZQ%3D%3D?line=76'>77</a>\u001b[0m labels \u001b[39m=\u001b[39m labels\u001b[39m.\u001b[39mto(device)\n\u001b[1;32m     <a href='vscode-notebook-cell:/Users/cpare/repos/VICReg_project/VICReg.ipynb#X12sZmlsZQ%3D%3D?line=77'>78</a>\u001b[0m \u001b[39m#compute representations\u001b[39;00m\n\u001b[0;32m---> <a href='vscode-notebook-cell:/Users/cpare/repos/VICReg_project/VICReg.ipynb#X12sZmlsZQ%3D%3D?line=78'>79</a>\u001b[0m output_i \u001b[39m=\u001b[39m model_vicreg(image_i)\n\u001b[1;32m     <a href='vscode-notebook-cell:/Users/cpare/repos/VICReg_project/VICReg.ipynb#X12sZmlsZQ%3D%3D?line=79'>80</a>\u001b[0m output_j \u001b[39m=\u001b[39m model_vicreg(image_j)\n\u001b[1;32m     <a href='vscode-notebook-cell:/Users/cpare/repos/VICReg_project/VICReg.ipynb#X12sZmlsZQ%3D%3D?line=81'>82</a>\u001b[0m \u001b[39m#invariance loss\u001b[39;00m\n",
      "File \u001b[0;32m~/opt/anaconda3/envs/myenv/lib/python3.9/site-packages/torch/nn/modules/module.py:1102\u001b[0m, in \u001b[0;36mModule._call_impl\u001b[0;34m(self, *input, **kwargs)\u001b[0m\n\u001b[1;32m   1098\u001b[0m \u001b[39m# If we don't have any hooks, we want to skip the rest of the logic in\u001b[39;00m\n\u001b[1;32m   1099\u001b[0m \u001b[39m# this function, and just call forward.\u001b[39;00m\n\u001b[1;32m   1100\u001b[0m \u001b[39mif\u001b[39;00m \u001b[39mnot\u001b[39;00m (\u001b[39mself\u001b[39m\u001b[39m.\u001b[39m_backward_hooks \u001b[39mor\u001b[39;00m \u001b[39mself\u001b[39m\u001b[39m.\u001b[39m_forward_hooks \u001b[39mor\u001b[39;00m \u001b[39mself\u001b[39m\u001b[39m.\u001b[39m_forward_pre_hooks \u001b[39mor\u001b[39;00m _global_backward_hooks\n\u001b[1;32m   1101\u001b[0m         \u001b[39mor\u001b[39;00m _global_forward_hooks \u001b[39mor\u001b[39;00m _global_forward_pre_hooks):\n\u001b[0;32m-> 1102\u001b[0m     \u001b[39mreturn\u001b[39;00m forward_call(\u001b[39m*\u001b[39;49m\u001b[39minput\u001b[39;49m, \u001b[39m*\u001b[39;49m\u001b[39m*\u001b[39;49mkwargs)\n\u001b[1;32m   1103\u001b[0m \u001b[39m# Do not call functions when jit is used\u001b[39;00m\n\u001b[1;32m   1104\u001b[0m full_backward_hooks, non_full_backward_hooks \u001b[39m=\u001b[39m [], []\n",
      "\u001b[1;32m/Users/cpare/repos/VICReg_project/VICReg.ipynb Cell 10\u001b[0m in \u001b[0;36mCNN_augs.forward\u001b[0;34m(self, x)\u001b[0m\n\u001b[1;32m     <a href='vscode-notebook-cell:/Users/cpare/repos/VICReg_project/VICReg.ipynb#X12sZmlsZQ%3D%3D?line=33'>34</a>\u001b[0m \u001b[39mdef\u001b[39;00m \u001b[39mforward\u001b[39m(\u001b[39mself\u001b[39m, x):\n\u001b[1;32m     <a href='vscode-notebook-cell:/Users/cpare/repos/VICReg_project/VICReg.ipynb#X12sZmlsZQ%3D%3D?line=34'>35</a>\u001b[0m     x \u001b[39m=\u001b[39m F\u001b[39m.\u001b[39mrelu(\u001b[39mself\u001b[39m\u001b[39m.\u001b[39mconv1(x))\n\u001b[0;32m---> <a href='vscode-notebook-cell:/Users/cpare/repos/VICReg_project/VICReg.ipynb#X12sZmlsZQ%3D%3D?line=35'>36</a>\u001b[0m     x \u001b[39m=\u001b[39m F\u001b[39m.\u001b[39mrelu(\u001b[39mself\u001b[39;49m\u001b[39m.\u001b[39;49mconv2(x))\n\u001b[1;32m     <a href='vscode-notebook-cell:/Users/cpare/repos/VICReg_project/VICReg.ipynb#X12sZmlsZQ%3D%3D?line=36'>37</a>\u001b[0m     x \u001b[39m=\u001b[39m \u001b[39mself\u001b[39m\u001b[39m.\u001b[39mmax_pool(x)\n\u001b[1;32m     <a href='vscode-notebook-cell:/Users/cpare/repos/VICReg_project/VICReg.ipynb#X12sZmlsZQ%3D%3D?line=37'>38</a>\u001b[0m     x \u001b[39m=\u001b[39m x\u001b[39m.\u001b[39mview(\u001b[39m-\u001b[39m\u001b[39m1\u001b[39m,\u001b[39m5184\u001b[39m)\n",
      "File \u001b[0;32m~/opt/anaconda3/envs/myenv/lib/python3.9/site-packages/torch/nn/modules/module.py:1102\u001b[0m, in \u001b[0;36mModule._call_impl\u001b[0;34m(self, *input, **kwargs)\u001b[0m\n\u001b[1;32m   1098\u001b[0m \u001b[39m# If we don't have any hooks, we want to skip the rest of the logic in\u001b[39;00m\n\u001b[1;32m   1099\u001b[0m \u001b[39m# this function, and just call forward.\u001b[39;00m\n\u001b[1;32m   1100\u001b[0m \u001b[39mif\u001b[39;00m \u001b[39mnot\u001b[39;00m (\u001b[39mself\u001b[39m\u001b[39m.\u001b[39m_backward_hooks \u001b[39mor\u001b[39;00m \u001b[39mself\u001b[39m\u001b[39m.\u001b[39m_forward_hooks \u001b[39mor\u001b[39;00m \u001b[39mself\u001b[39m\u001b[39m.\u001b[39m_forward_pre_hooks \u001b[39mor\u001b[39;00m _global_backward_hooks\n\u001b[1;32m   1101\u001b[0m         \u001b[39mor\u001b[39;00m _global_forward_hooks \u001b[39mor\u001b[39;00m _global_forward_pre_hooks):\n\u001b[0;32m-> 1102\u001b[0m     \u001b[39mreturn\u001b[39;00m forward_call(\u001b[39m*\u001b[39;49m\u001b[39minput\u001b[39;49m, \u001b[39m*\u001b[39;49m\u001b[39m*\u001b[39;49mkwargs)\n\u001b[1;32m   1103\u001b[0m \u001b[39m# Do not call functions when jit is used\u001b[39;00m\n\u001b[1;32m   1104\u001b[0m full_backward_hooks, non_full_backward_hooks \u001b[39m=\u001b[39m [], []\n",
      "File \u001b[0;32m~/opt/anaconda3/envs/myenv/lib/python3.9/site-packages/torch/nn/modules/conv.py:446\u001b[0m, in \u001b[0;36mConv2d.forward\u001b[0;34m(self, input)\u001b[0m\n\u001b[1;32m    445\u001b[0m \u001b[39mdef\u001b[39;00m \u001b[39mforward\u001b[39m(\u001b[39mself\u001b[39m, \u001b[39minput\u001b[39m: Tensor) \u001b[39m-\u001b[39m\u001b[39m>\u001b[39m Tensor:\n\u001b[0;32m--> 446\u001b[0m     \u001b[39mreturn\u001b[39;00m \u001b[39mself\u001b[39;49m\u001b[39m.\u001b[39;49m_conv_forward(\u001b[39minput\u001b[39;49m, \u001b[39mself\u001b[39;49m\u001b[39m.\u001b[39;49mweight, \u001b[39mself\u001b[39;49m\u001b[39m.\u001b[39;49mbias)\n",
      "File \u001b[0;32m~/opt/anaconda3/envs/myenv/lib/python3.9/site-packages/torch/nn/modules/conv.py:442\u001b[0m, in \u001b[0;36mConv2d._conv_forward\u001b[0;34m(self, input, weight, bias)\u001b[0m\n\u001b[1;32m    438\u001b[0m \u001b[39mif\u001b[39;00m \u001b[39mself\u001b[39m\u001b[39m.\u001b[39mpadding_mode \u001b[39m!=\u001b[39m \u001b[39m'\u001b[39m\u001b[39mzeros\u001b[39m\u001b[39m'\u001b[39m:\n\u001b[1;32m    439\u001b[0m     \u001b[39mreturn\u001b[39;00m F\u001b[39m.\u001b[39mconv2d(F\u001b[39m.\u001b[39mpad(\u001b[39minput\u001b[39m, \u001b[39mself\u001b[39m\u001b[39m.\u001b[39m_reversed_padding_repeated_twice, mode\u001b[39m=\u001b[39m\u001b[39mself\u001b[39m\u001b[39m.\u001b[39mpadding_mode),\n\u001b[1;32m    440\u001b[0m                     weight, bias, \u001b[39mself\u001b[39m\u001b[39m.\u001b[39mstride,\n\u001b[1;32m    441\u001b[0m                     _pair(\u001b[39m0\u001b[39m), \u001b[39mself\u001b[39m\u001b[39m.\u001b[39mdilation, \u001b[39mself\u001b[39m\u001b[39m.\u001b[39mgroups)\n\u001b[0;32m--> 442\u001b[0m \u001b[39mreturn\u001b[39;00m F\u001b[39m.\u001b[39;49mconv2d(\u001b[39minput\u001b[39;49m, weight, bias, \u001b[39mself\u001b[39;49m\u001b[39m.\u001b[39;49mstride,\n\u001b[1;32m    443\u001b[0m                 \u001b[39mself\u001b[39;49m\u001b[39m.\u001b[39;49mpadding, \u001b[39mself\u001b[39;49m\u001b[39m.\u001b[39;49mdilation, \u001b[39mself\u001b[39;49m\u001b[39m.\u001b[39;49mgroups)\n",
      "\u001b[0;31mKeyboardInterrupt\u001b[0m: "
     ]
    }
   ],
   "source": [
    "#Hyper Parameters\n",
    "batch_size = 64\n",
    "learning_rate = 0.0001\n",
    "epochs = 100\n",
    "# Dimension (D) of the representations\n",
    "embedding_dimension = 32\n",
    "lam = 25\n",
    "mu = 25\n",
    "nu = 1\n",
    "\n",
    "transform = transforms.Compose([transforms.ToTensor(), transforms.Normalize(mean=0.1307, std=0.3081)])\n",
    "train_dataset = torchvision.datasets.MNIST(root=\"./\", train=True, download=True, transform=transform)\n",
    "test_dataset = torchvision.datasets.MNIST(root=\"./\", train=False, download=True, transform=transform)\n",
    "train_loader = DataLoader(train_dataset, batch_size=batch_size, shuffle=True)\n",
    "test_loader = DataLoader(test_dataset, batch_size=batch_size, shuffle=True)\n",
    "\n",
    "device = torch.device('cuda' if torch.cuda.is_available() else 'cpu')\n",
    "\n",
    "\n",
    "class CNN_augs(nn.Module):\n",
    "    def __init__(self):\n",
    "        super(CNN_augs, self).__init__()\n",
    "        #32 output channels --> change kernel size to 3 or 5\n",
    "        self.conv1 = nn.Conv2d(1, 32, kernel_size=1)\n",
    "        #64 output channels --> \n",
    "        self.conv2 = nn.Conv2d(32, 64, kernel_size=3)\n",
    "        self.max_pool = nn.MaxPool2d(2, 2)\n",
    "        self.fc1 = nn.Linear(5184, 256)\n",
    "        self.fc2 = nn.Linear(256, 128)\n",
    "        # 3 fully connected layers\n",
    "        # embedding dimension will be 32\n",
    "        self.fc3 = nn.Linear(128,embedding_dimension)\n",
    "\n",
    "    def forward(self, x):\n",
    "        x = F.relu(self.conv1(x))\n",
    "        x = F.relu(self.conv2(x))\n",
    "        x = self.max_pool(x)\n",
    "        x = x.view(-1,5184)\n",
    "        x = F.relu(self.fc1(x))\n",
    "        x = F.relu(self.fc2(x))\n",
    "        x = F.relu(self.fc3(x))\n",
    "        return x\n",
    "    def data_aug(self, img_tensor):\n",
    "        aug = transforms.RandomResizedCrop(20, scale=(0.08,0.1))(img_tensor)\n",
    "        aug = transforms.RandomHorizontalFlip(p=0.5)(aug)\n",
    "        aug = transforms.ColorJitter(brightness=0.4, contrast=0.4, saturation=0.2, hue=0.1)(aug)\n",
    "        #aug = transforms.RandomGrayscale(0.2)(aug)\n",
    "        aug = transforms.GaussianBlur(kernel_size=23, sigma=0.5)(aug)\n",
    "        aug = transforms.RandomSolarize(threshold=0.3,p=0.1)(aug)\n",
    "        #aug = transforms.Normalize()(aug)\n",
    "        return aug\n",
    "    def off_diagonal(self, x):\n",
    "        n, m = x.shape\n",
    "        assert n == m\n",
    "        return x.flatten()[:-1].view(n - 1, n + 1)[:, 1:].flatten()\n",
    "        \n",
    "    \n",
    "\n",
    "model_vicreg = CNN_augs().to(device=device)\n",
    "optimizer = torch.optim.Adam(model_vicreg.parameters(), lr = learning_rate)\n",
    "\n",
    "f = open(\"/Users/cpare/repos/VICReg_project/csv's/VICReg_metrics2.csv\",\"w+\" )\n",
    "f.write(\"Epoch, Loss\\n\")\n",
    "f.close()\n",
    "n_total_steps = len(train_loader)\n",
    "for epoch in range(epochs):\n",
    "    running_loss = 0.0\n",
    "    running_inv_loss = 0.0\n",
    "    running_var_loss = 0.0\n",
    "    running_cov_loss = 0.0\n",
    "    for i, (images, labels) in enumerate(train_loader):\n",
    "        images = images.to(device)\n",
    "        # two randomly augmented versions of image\n",
    "        image_i = model_vicreg.data_aug(images)\n",
    "        image_j = model_vicreg.data_aug(images)\n",
    "\n",
    "        labels = labels.to(device)\n",
    "        #compute representations\n",
    "        output_i = model_vicreg(image_i)\n",
    "        output_j = model_vicreg(image_j)\n",
    "\n",
    "        #invariance loss\n",
    "        sim_loss = nn.MSELoss()\n",
    "        sim_loss = lam * sim_loss(output_i, output_j)\n",
    "\n",
    "        #variance loss\n",
    "        std_output_i = torch.sqrt(torch.var(output_i, dim=0) + 1e-04)\n",
    "        std_output_j = torch.sqrt(torch.var(output_j, dim = 0) + 1e-04)\n",
    "        std_loss = torch.mean(F.relu(1-std_output_i)) + torch.mean(F.relu(1-std_output_j))\n",
    "\n",
    "        #covariance loss\n",
    "        output_i = output_i - torch.mean(output_i, dim=0)\n",
    "        output_j = output_j - torch.mean(output_j, dim=0)\n",
    "        cov_output_i = (torch.matmul(torch.transpose(output_i, 0, 1), output_i) / (batch_size -1))\n",
    "        cov_output_j = (torch.matmul(torch.transpose(output_j, 0, 1), output_j) / (batch_size -1))\n",
    "        cov_loss = (model_vicreg.off_diagonal(cov_output_i).pow(2).sum() / embedding_dimension) + (model_vicreg.off_diagonal(cov_output_j).pow(2).sum() / embedding_dimension)\n",
    "\n",
    "        # compute loss between two different data augs!\n",
    "        # train for 20 epochs and make a loss curve\n",
    "        std_loss = mu * std_loss\n",
    "        cov_loss = nu * cov_loss\n",
    "        loss = sim_loss + std_loss + cov_loss\n",
    "\n",
    "        optimizer.zero_grad()\n",
    "        loss.backward()\n",
    "        optimizer.step()\n",
    "\n",
    "        running_loss += loss.item() \n",
    "\n",
    "        if (i+1) % 100 == 0:\n",
    "            print(f'Epoch [{epoch+1}/{epochs}], Step [{i+1}/{n_total_steps}], Loss: {loss.item():.4f}, Invariance Loss: {sim_loss}, Variance Loss: {std_loss}. Covariance Loss: {cov_loss}')\n",
    "    epoch_loss = running_loss / len(train_loader)\n",
    "    epoch_inv_loss = running_inv_loss / len(train_loader)\n",
    "    epoch_var_loss = running_var_loss / len(train_loader)\n",
    "    epoch_cov_loss = running_cov_loss / len(train_loader)\n",
    "    f = open(\"/Users/cpare/repos/VICReg_project/csv's/VICReg_metrics2.csv\", \"a\")\n",
    "    f.write(f\"{epoch + 1}, {epoch_loss}, {epoch_inv_loss}, {epoch_var_loss}, {epoch_cov_loss}\\n\")\n",
    "    f.close()"
   ]
  },
  {
   "cell_type": "markdown",
   "metadata": {},
   "source": []
  },
  {
   "attachments": {},
   "cell_type": "markdown",
   "metadata": {},
   "source": [
    "## Downstream tasks\n",
    "- **Classification**\n",
    "- Regression\n",
    "- Simulate representation of the data\n",
    "- Autoencoder --> anomaly detection"
   ]
  },
  {
   "cell_type": "code",
   "execution_count": 81,
   "metadata": {},
   "outputs": [],
   "source": [
    "def off_diagonal(x):\n",
    "    n, m = x.shape\n",
    "    # checking we have a square matrix where columns and rows are the same\n",
    "    assert n == m\n",
    "    off_diag = x.clone()\n",
    "    off_diag = off_diag.flatten()\n",
    "    # getting all elements except the last corner element\n",
    "    off_diag  = off_diag[:-1]\n",
    "    # reshape the tensor with remaining elements\n",
    "    off_diag = off_diag.view(n-1, n+1)\n",
    "    # the first slice is gathering all rows, the second slice is getting every columns except the first \n",
    "    off_diag = off_diag[:, 1:]\n",
    "    # flattening matrix\n",
    "    off_diag = off_diag.flatten()\n",
    "    return off_diag\n",
    "    #return x.flatten()[:-1].view(n - 1, n + 1)[:, 1:].flatten()"
   ]
  },
  {
   "cell_type": "code",
   "execution_count": 34,
   "metadata": {},
   "outputs": [
    {
     "data": {
      "text/html": [
       "<div>\n",
       "<style scoped>\n",
       "    .dataframe tbody tr th:only-of-type {\n",
       "        vertical-align: middle;\n",
       "    }\n",
       "\n",
       "    .dataframe tbody tr th {\n",
       "        vertical-align: top;\n",
       "    }\n",
       "\n",
       "    .dataframe thead th {\n",
       "        text-align: right;\n",
       "    }\n",
       "</style>\n",
       "<table border=\"1\" class=\"dataframe\">\n",
       "  <thead>\n",
       "    <tr style=\"text-align: right;\">\n",
       "      <th></th>\n",
       "      <th>Epoch</th>\n",
       "      <th>Loss</th>\n",
       "    </tr>\n",
       "  </thead>\n",
       "  <tbody>\n",
       "    <tr>\n",
       "      <th>0</th>\n",
       "      <td>1</td>\n",
       "      <td>0.195379</td>\n",
       "    </tr>\n",
       "    <tr>\n",
       "      <th>1</th>\n",
       "      <td>2</td>\n",
       "      <td>0.195063</td>\n",
       "    </tr>\n",
       "    <tr>\n",
       "      <th>2</th>\n",
       "      <td>3</td>\n",
       "      <td>0.195006</td>\n",
       "    </tr>\n",
       "    <tr>\n",
       "      <th>3</th>\n",
       "      <td>4</td>\n",
       "      <td>0.194768</td>\n",
       "    </tr>\n",
       "    <tr>\n",
       "      <th>4</th>\n",
       "      <td>5</td>\n",
       "      <td>0.194138</td>\n",
       "    </tr>\n",
       "  </tbody>\n",
       "</table>\n",
       "</div>"
      ],
      "text/plain": [
       "   Epoch      Loss\n",
       "0      1  0.195379\n",
       "1      2  0.195063\n",
       "2      3  0.195006\n",
       "3      4  0.194768\n",
       "4      5  0.194138"
      ]
     },
     "execution_count": 34,
     "metadata": {},
     "output_type": "execute_result"
    }
   ],
   "source": [
    "df = pd.read_csv(\"/Users/cpare/repos/VICReg_project/csv's/VICReg_metrics.csv\")\n",
    "df.head()"
   ]
  },
  {
   "cell_type": "code",
   "execution_count": 55,
   "metadata": {},
   "outputs": [
    {
     "name": "stdout",
     "output_type": "stream",
     "text": [
      "[ 1  2  3  4  5  6  7  8  9 10 11 12 13 14 15 16 17 18 19 20]\n"
     ]
    },
    {
     "data": {
      "image/png": "[encoded data removed]",
      "text/plain": [
       "<Figure size 432x288 with 1 Axes>"
      ]
     },
     "metadata": {
      "needs_background": "light"
     },
     "output_type": "display_data"
    }
   ],
   "source": [
    "epochs = np.array(df.iloc[:,0])\n",
    "losses = np.array(df.iloc[:,1])\n",
    "print(epochs)\n",
    "plt.plot(epochs, losses, label = \"train loss\", color = \"red\")\n",
    "plt.xlabel(\"Epochs\")\n",
    "plt.ylabel(\"Loss\")\n",
    "plt.xlim(1,20)\n",
    "plt.title(\"VICReg Loss for MNIST Dataset\")\n",
    "plt.legend()\n",
    "plt.savefig(\"/Users/cpare/repos/VICReg_project/plots/loss_20epochs.png\")\n"
   ]
  },
  {
   "cell_type": "code",
   "execution_count": 65,
   "metadata": {},
   "outputs": [
    {
     "data": {
      "image/png": "[encoded data removed]",
      "text/plain": [
       "<Figure size 432x288 with 1 Axes>"
      ]
     },
     "metadata": {
      "needs_background": "light"
     },
     "output_type": "display_data"
    }
   ],
   "source": [
    "df = pd.read_csv(\"/Users/cpare/repos/VICReg_project/csv's/VICReg_metrics_100epochs.csv\")\n",
    "epochs = np.array(df.iloc[:, 0])\n",
    "losses = np.array(df.iloc[:,1])\n",
    "\n",
    "plt.plot(epochs, losses, label = \"Train Loss\")\n",
    "plt.xlabel(\"Epochs\")\n",
    "plt.ylabel(\"Loss\")\n",
    "plt.legend()\n",
    "plt.title(\"VICReg Loss MNIST Dataset (100 Epochs)\")\n",
    "plt.savefig(\"/Users/cpare/repos/VICReg_project/plots/loss_100epochs.png\")"
   ]
  },
  {
   "cell_type": "code",
   "execution_count": 69,
   "metadata": {},
   "outputs": [
    {
     "data": {
      "text/html": [
       "<div>\n",
       "<style scoped>\n",
       "    .dataframe tbody tr th:only-of-type {\n",
       "        vertical-align: middle;\n",
       "    }\n",
       "\n",
       "    .dataframe tbody tr th {\n",
       "        vertical-align: top;\n",
       "    }\n",
       "\n",
       "    .dataframe thead th {\n",
       "        text-align: right;\n",
       "    }\n",
       "</style>\n",
       "<table border=\"1\" class=\"dataframe\">\n",
       "  <thead>\n",
       "    <tr style=\"text-align: right;\">\n",
       "      <th></th>\n",
       "      <th>Epoch</th>\n",
       "      <th>Loss</th>\n",
       "      <th>Invariance Loss</th>\n",
       "      <th>Variance Loss</th>\n",
       "      <th>Covariance Loss</th>\n",
       "    </tr>\n",
       "  </thead>\n",
       "  <tbody>\n",
       "    <tr>\n",
       "      <th>0</th>\n",
       "      <td>1</td>\n",
       "      <td>0.195688</td>\n",
       "      <td>0.003710</td>\n",
       "      <td>0.191978</td>\n",
       "      <td>1.780991e-13</td>\n",
       "    </tr>\n",
       "    <tr>\n",
       "      <th>1</th>\n",
       "      <td>2</td>\n",
       "      <td>0.195276</td>\n",
       "      <td>0.004236</td>\n",
       "      <td>0.191040</td>\n",
       "      <td>2.547968e-13</td>\n",
       "    </tr>\n",
       "    <tr>\n",
       "      <th>2</th>\n",
       "      <td>3</td>\n",
       "      <td>0.195146</td>\n",
       "      <td>0.004387</td>\n",
       "      <td>0.190759</td>\n",
       "      <td>2.795214e-13</td>\n",
       "    </tr>\n",
       "    <tr>\n",
       "      <th>3</th>\n",
       "      <td>4</td>\n",
       "      <td>0.195095</td>\n",
       "      <td>0.004445</td>\n",
       "      <td>0.190650</td>\n",
       "      <td>2.784698e-13</td>\n",
       "    </tr>\n",
       "    <tr>\n",
       "      <th>4</th>\n",
       "      <td>5</td>\n",
       "      <td>0.194971</td>\n",
       "      <td>0.004566</td>\n",
       "      <td>0.190405</td>\n",
       "      <td>3.054706e-13</td>\n",
       "    </tr>\n",
       "  </tbody>\n",
       "</table>\n",
       "</div>"
      ],
      "text/plain": [
       "   Epoch      Loss   Invariance Loss   Variance Loss   Covariance Loss\n",
       "0      1  0.195688          0.003710        0.191978      1.780991e-13\n",
       "1      2  0.195276          0.004236        0.191040      2.547968e-13\n",
       "2      3  0.195146          0.004387        0.190759      2.795214e-13\n",
       "3      4  0.195095          0.004445        0.190650      2.784698e-13\n",
       "4      5  0.194971          0.004566        0.190405      3.054706e-13"
      ]
     },
     "execution_count": 69,
     "metadata": {},
     "output_type": "execute_result"
    }
   ],
   "source": [
    "df = pd.read_csv(\"/Users/cpare/repos/VICReg_project/csv's/VICReg_metrics_allLosses.csv\")\n",
    "df.head()"
   ]
  },
  {
   "cell_type": "code",
   "execution_count": 71,
   "metadata": {},
   "outputs": [],
   "source": [
    "epochs = np.array(df.iloc[:,0])\n",
    "total_loss = np.array(df.iloc[:,1])\n",
    "inv_loss = np.array(df.iloc[:,2])\n",
    "var_loss = np.array(df.iloc[:,3])\n",
    "cov_loss = np.array(df.iloc[:,4])"
   ]
  },
  {
   "cell_type": "code",
   "execution_count": 77,
   "metadata": {},
   "outputs": [
    {
     "data": {
      "text/plain": [
       "[<matplotlib.lines.Line2D at 0x7f939b288280>]"
      ]
     },
     "execution_count": 77,
     "metadata": {},
     "output_type": "execute_result"
    },
    {
     "data": {
      "image/png": "[encoded data removed]",
      "text/plain": [
       "<Figure size 432x288 with 1 Axes>"
      ]
     },
     "metadata": {
      "needs_background": "light"
     },
     "output_type": "display_data"
    }
   ],
   "source": [
    "\n",
    "plt.plot(epochs, inv_loss)\n",
    "plt.plot(epochs, var_loss)\n",
    "plt.plot(epochs, cov_loss)"
   ]
  },
  {
   "cell_type": "code",
   "execution_count": 14,
   "metadata": {},
   "outputs": [
    {
     "name": "stdout",
     "output_type": "stream",
     "text": [
      "60000\n",
      "50000\n"
     ]
    }
   ],
   "source": [
    "\n",
    "dataset = torchvision.datasets.MNIST(root=\"./\", train=True, transform=transforms.ToTensor())\n",
    "print(len(dataset))\n",
    "train_data, val_data = random_split(dataset, [50000, 10000])\n",
    "print(len(train_data))\n",
    "\n",
    "train_loader = DataLoader(dataset=train_dataset, batch_size=batch_size, shuffle=True, num_workers=2, pin_memory=True)\n",
    "val_loader = DataLoader(dataset=val_data, batch_size = batch_size, shuffle= True, num_workers=2, pin_memory=True)"
   ]
  },
  {
   "attachments": {},
   "cell_type": "markdown",
   "metadata": {},
   "source": [
    "# Practicing with saving and loading models"
   ]
  },
  {
   "cell_type": "code",
   "execution_count": 2,
   "metadata": {},
   "outputs": [],
   "source": [
    "import torch\n",
    "import torch.nn as nn\n",
    "import torch.nn.functional as F\n",
    "import torchvision\n",
    "import torchvision.transforms as transforms\n",
    "import numpy as np\n",
    "import pandas as pd\n",
    "from torch.utils.data import DataLoader, Dataset, random_split\n",
    "from torch.utils.data import random_split\n",
    "import matplotlib.pyplot as plt\n",
    "from torchinfo import summary"
   ]
  },
  {
   "cell_type": "code",
   "execution_count": 3,
   "metadata": {},
   "outputs": [
    {
     "name": "stdout",
     "output_type": "stream",
     "text": [
      "torch.Size([1, 6, 13, 13])\n",
      "torch.Size([1, 1014])\n"
     ]
    },
    {
     "name": "stderr",
     "output_type": "stream",
     "text": [
      "[W NNPACK.cpp:79] Could not initialize NNPACK! Reason: Unsupported hardware.\n"
     ]
    }
   ],
   "source": [
    "data = torch.rand([1,1,28,28])\n",
    "c1 = nn.Conv2d(1,3,2)\n",
    "c2 = nn.Conv2d(3,6,2)\n",
    "max = nn.MaxPool2d(2,2)\n",
    "x = c1(data)\n",
    "x = c2(x)\n",
    "x = max(x)\n",
    "print(x.shape)\n",
    "x = x.view(-1, 1014)\n",
    "print(x.shape)\n"
   ]
  },
  {
   "cell_type": "code",
   "execution_count": 10,
   "metadata": {},
   "outputs": [
    {
     "name": "stdout",
     "output_type": "stream",
     "text": [
      "Parameter containing:\n",
      "tensor([[[[ 0.0607, -0.4154],\n",
      "          [ 0.0299, -0.2130]]],\n",
      "\n",
      "\n",
      "        [[[ 0.1858,  0.1999],\n",
      "          [-0.0543,  0.4631]]],\n",
      "\n",
      "\n",
      "        [[[ 0.3162, -0.4809],\n",
      "          [-0.1477, -0.1458]]]], requires_grad=True)\n",
      "Parameter containing:\n",
      "tensor([ 0.2729,  0.4166, -0.4654], requires_grad=True)\n",
      "Parameter containing:\n",
      "tensor([[[[ 1.9487e-02,  1.5281e-02],\n",
      "          [ 1.9601e-01,  2.0930e-01]],\n",
      "\n",
      "         [[-7.4244e-02, -8.4726e-02],\n",
      "          [-2.2381e-01,  1.5637e-01]],\n",
      "\n",
      "         [[-1.2388e-01,  1.5985e-01],\n",
      "          [ 2.6235e-02,  2.2381e-01]]],\n",
      "\n",
      "\n",
      "        [[[ 1.4612e-01, -8.1123e-02],\n",
      "          [ 8.3552e-02, -1.1913e-01]],\n",
      "\n",
      "         [[ 2.7264e-01,  2.7497e-01],\n",
      "          [-2.8575e-01, -8.1969e-02]],\n",
      "\n",
      "         [[-1.2872e-01,  1.3871e-01],\n",
      "          [-1.2844e-01,  6.6356e-02]]],\n",
      "\n",
      "\n",
      "        [[[ 2.4167e-01, -2.7086e-01],\n",
      "          [ 8.8348e-02,  8.1858e-03]],\n",
      "\n",
      "         [[-2.2238e-01, -1.3413e-01],\n",
      "          [ 1.4586e-03, -1.1462e-01]],\n",
      "\n",
      "         [[ 2.0139e-01,  8.7482e-02],\n",
      "          [-1.4896e-01, -2.5590e-01]]],\n",
      "\n",
      "\n",
      "        [[[ 2.5436e-01, -1.9330e-01],\n",
      "          [ 1.2178e-01,  2.6080e-01]],\n",
      "\n",
      "         [[ 2.2165e-01,  4.2567e-02],\n",
      "          [ 1.9568e-01,  2.8269e-01]],\n",
      "\n",
      "         [[-8.2344e-05, -2.8982e-02],\n",
      "          [ 8.3992e-02,  2.4159e-01]]],\n",
      "\n",
      "\n",
      "        [[[ 2.6169e-02, -1.1319e-01],\n",
      "          [-2.5750e-01, -1.3848e-01]],\n",
      "\n",
      "         [[ 1.2347e-01,  1.1175e-01],\n",
      "          [ 4.1815e-02,  1.4305e-01]],\n",
      "\n",
      "         [[-2.2182e-01, -1.1436e-01],\n",
      "          [ 1.1584e-01, -1.5388e-01]]],\n",
      "\n",
      "\n",
      "        [[[-3.5017e-02,  2.5798e-01],\n",
      "          [-2.7940e-01,  8.0759e-02]],\n",
      "\n",
      "         [[-2.8419e-02,  8.8698e-02],\n",
      "          [ 1.1634e-01,  2.7071e-01]],\n",
      "\n",
      "         [[-1.2126e-01, -1.9644e-01],\n",
      "          [-1.3476e-02, -2.8426e-01]]]], requires_grad=True)\n",
      "Parameter containing:\n",
      "tensor([-0.2503,  0.1150,  0.0427, -0.0994,  0.0807, -0.2171],\n",
      "       requires_grad=True)\n",
      "Parameter containing:\n",
      "tensor([[-0.0198, -0.0074,  0.0191,  ..., -0.0226,  0.0068,  0.0211],\n",
      "        [-0.0020, -0.0110, -0.0082,  ...,  0.0254,  0.0054, -0.0153],\n",
      "        [-0.0244, -0.0182, -0.0122,  ...,  0.0086,  0.0019,  0.0251]],\n",
      "       requires_grad=True)\n",
      "Parameter containing:\n",
      "tensor([-0.0074, -0.0215,  0.0085], requires_grad=True)\n"
     ]
    }
   ],
   "source": [
    "data = torch.rand([1,1,28,28])\n",
    "class Model(nn.Module):\n",
    "    def __init__(self):\n",
    "        super(Model, self).__init__()\n",
    "        self.conv1 = nn.Conv2d(1,3,2)\n",
    "        self.conv2 = nn.Conv2d(3,6,2)\n",
    "        self.maxpool = nn.MaxPool2d(2,2)\n",
    "        self.fc1 = nn.Linear(1014,3)\n",
    "    def forward(self, x):\n",
    "        x = self.conv1(x)\n",
    "        x = self.conv2(x)\n",
    "        x = self.maxpool(x)\n",
    "        x = x.view(-1, 1014)\n",
    "        x = self.fc1(x)\n",
    "\n",
    "        return x\n",
    "# Initialize model\n",
    "model = Model()\n",
    "FILE = \"/Users/cpare/repos/VICReg_project/saved_models/model.pth\"\n",
    "# Save Model\n",
    "torch.save(model.state_dict(), FILE)\n",
    "\n",
    "for param in model.parameters():\n",
    "    print(param)\n",
    "\n",
    "\n",
    "# loaded_model = Model()\n",
    "# loaded_model.load_state_dict(torch.load(FILE))\n",
    "# loaded_model.eval()\n",
    "\n",
    "\n",
    "\n",
    "        "
   ]
  },
  {
   "cell_type": "code",
   "execution_count": 28,
   "metadata": {},
   "outputs": [
    {
     "name": "stdout",
     "output_type": "stream",
     "text": [
      "Parameter containing:\n",
      "tensor([[[[-0.4657,  0.4162],\n",
      "          [ 0.3249, -0.3605]]],\n",
      "\n",
      "\n",
      "        [[[-0.1864,  0.1252],\n",
      "          [-0.2970, -0.3610]]],\n",
      "\n",
      "\n",
      "        [[[ 0.2265,  0.4460],\n",
      "          [-0.0644,  0.3437]]]], requires_grad=True)\n",
      "Parameter containing:\n",
      "tensor([-0.4030, -0.4202,  0.4476], requires_grad=True)\n",
      "Parameter containing:\n",
      "tensor([[[[ 0.1365,  0.2250],\n",
      "          [-0.0767, -0.2583]],\n",
      "\n",
      "         [[ 0.1464, -0.1999],\n",
      "          [-0.1809,  0.1731]],\n",
      "\n",
      "         [[-0.1935,  0.1201],\n",
      "          [ 0.2404,  0.1523]]],\n",
      "\n",
      "\n",
      "        [[[-0.0632,  0.2539],\n",
      "          [-0.2751, -0.0628]],\n",
      "\n",
      "         [[-0.2810,  0.0147],\n",
      "          [-0.2611,  0.1921]],\n",
      "\n",
      "         [[ 0.0202,  0.1187],\n",
      "          [ 0.1537, -0.2171]]],\n",
      "\n",
      "\n",
      "        [[[-0.1604,  0.1944],\n",
      "          [ 0.0822,  0.1410]],\n",
      "\n",
      "         [[ 0.2586,  0.2441],\n",
      "          [-0.0310, -0.2803]],\n",
      "\n",
      "         [[-0.2429, -0.2630],\n",
      "          [-0.0161, -0.1626]]],\n",
      "\n",
      "\n",
      "        [[[ 0.1908, -0.0690],\n",
      "          [ 0.0717, -0.2741]],\n",
      "\n",
      "         [[ 0.1248, -0.0122],\n",
      "          [-0.1638,  0.2039]],\n",
      "\n",
      "         [[-0.1446,  0.0582],\n",
      "          [-0.0642,  0.1510]]],\n",
      "\n",
      "\n",
      "        [[[ 0.0543, -0.0647],\n",
      "          [-0.1588, -0.2529]],\n",
      "\n",
      "         [[-0.0798, -0.2713],\n",
      "          [ 0.1700, -0.1817]],\n",
      "\n",
      "         [[-0.2000,  0.0594],\n",
      "          [ 0.2693, -0.2641]]],\n",
      "\n",
      "\n",
      "        [[[ 0.1451, -0.2634],\n",
      "          [ 0.2043,  0.1585]],\n",
      "\n",
      "         [[ 0.1944, -0.1556],\n",
      "          [-0.2343, -0.0215]],\n",
      "\n",
      "         [[-0.0145, -0.0907],\n",
      "          [-0.0575,  0.0740]]]], requires_grad=True)\n",
      "Parameter containing:\n",
      "tensor([ 0.0253,  0.2568,  0.0910, -0.0615,  0.0474,  0.0832],\n",
      "       requires_grad=True)\n",
      "Parameter containing:\n",
      "tensor([[-0.0128, -0.0019, -0.0192,  ..., -0.0083, -0.0206,  0.0216],\n",
      "        [-0.0194, -0.0263,  0.0207,  ..., -0.0075, -0.0104,  0.0179],\n",
      "        [ 0.0179,  0.0055,  0.0033,  ..., -0.0275, -0.0103,  0.0086]],\n",
      "       requires_grad=True)\n",
      "Parameter containing:\n",
      "tensor([ 0.0050, -0.0213,  0.0094], requires_grad=True)\n"
     ]
    }
   ],
   "source": [
    "loaded_model = Model()\n",
    "loaded_model.load_state_dict(torch.load(FILE))\n",
    "loaded_model.eval()\n",
    "\n",
    "for param in loaded_model.parameters():\n",
    "    print(param)\n"
   ]
  },
  {
   "cell_type": "code",
   "execution_count": 4,
   "metadata": {},
   "outputs": [],
   "source": [
    "def f_test(x, is_train: bool = False):\n",
    "    if (is_train == True):\n",
    "        x = x + 4\n",
    "    else:\n",
    "        x = x +1;\n",
    "    return x"
   ]
  },
  {
   "cell_type": "code",
   "execution_count": 20,
   "metadata": {},
   "outputs": [
    {
     "name": "stdout",
     "output_type": "stream",
     "text": [
      "torch.Size([128, 8, 28, 28])\n",
      "torch.Size([128, 8, 14, 14])\n",
      "torch.Size([128, 16, 12, 12])\n",
      "torch.Size([128, 16, 6, 6])\n",
      "torch.Size([128, 32, 5, 5])\n",
      "torch.Size([128, 32, 2, 2])\n",
      "torch.Size([128, 128])\n",
      "torch.Size([128, 64])\n",
      "torch.Size([128, 64])\n",
      "torch.Size([128, 10])\n"
     ]
    }
   ],
   "source": [
    "batch_size = 128\n",
    "x = torch.rand([batch_size, 1, 28, 28])\n",
    "x.shape\n",
    "\n",
    "conv1 = nn.Conv2d(1, 8, kernel_size=1)\n",
    "#64 output channels --> \n",
    "conv2 = nn.Conv2d(8, 16, kernel_size=3)\n",
    "conv3 = nn.Conv2d(16,32, kernel_size=2)\n",
    "max_pool = nn.MaxPool2d(2, 2)\n",
    "fc1_classify = nn.Linear(128,64)\n",
    "fc2_classfiy = nn.Linear(64,64)\n",
    "fc3_classify = nn.Linear(64,10)\n",
    "x = conv1(x)\n",
    "print(x.shape)\n",
    "x = max_pool(x)\n",
    "print(x.shape)\n",
    "x = conv2(x)\n",
    "print(x.shape)\n",
    "x = max_pool(x)\n",
    "print(x.shape)\n",
    "x = conv3(x)\n",
    "print(x.shape)\n",
    "x = max_pool(x)\n",
    "print(x.shape)\n",
    "x = x.view(-1, 128)\n",
    "print(x.shape)\n",
    "x = fc1_classify(x)\n",
    "print(x.shape)\n",
    "x = fc2_classfiy(x)\n",
    "print(x.shape)\n",
    "x = fc3_classify(x)\n",
    "print(x.shape)"
   ]
  },
  {
   "cell_type": "markdown",
   "metadata": {},
   "source": []
  },
  {
   "cell_type": "code",
   "execution_count": 4,
   "metadata": {},
   "outputs": [],
   "source": [
    "batch_size = 128\n",
    "dataset = torchvision.datasets.MNIST(root=\"./\", train=True, download=True, transform=transforms.ToTensor())\n",
    "test_dataset = torchvision.datasets.MNIST(root=\"./\", train=False, download=True, transform=transforms.ToTensor())\n",
    "train_data, val_data = random_split(dataset, [50000, 10000])\n",
    "\n",
    "train_loader = DataLoader(train_data, batch_size=batch_size, shuffle=True, pin_memory=True)\n",
    "val_loader = DataLoader(val_data, batch_size=batch_size, shuffle=True, pin_memory=True)\n",
    "test_loader = DataLoader(test_dataset, batch_size=batch_size, shuffle=True)\n",
    "n_total_steps = len(train_loader)\n",
    "device = torch.device('cuda' if torch.cuda.is_available() else 'cpu')"
   ]
  },
  {
   "cell_type": "code",
   "execution_count": 9,
   "metadata": {},
   "outputs": [
    {
     "data": {
      "text/plain": [
       "tensor([3, 3, 6, 2, 7, 3, 5, 5, 4, 1, 0, 2, 0, 1, 5, 4, 3, 6, 3, 3, 5, 4, 9, 7,\n",
       "        0, 8, 0, 1, 8, 8, 4, 0, 1, 9, 7, 5, 9, 4, 1, 1, 6, 1, 7, 9, 2, 5, 4, 8,\n",
       "        8, 4, 7, 8, 9, 1, 7, 1, 4, 1, 1, 7, 1, 7, 0, 2, 2, 8, 6, 1, 0, 8, 5, 0,\n",
       "        9, 3, 6, 4, 3, 0, 3, 1, 7, 6, 5, 4, 7, 1, 1, 3, 3, 7, 9, 0, 5, 1, 6, 4,\n",
       "        2, 3, 3, 4, 7, 6, 0, 3, 4, 1, 2, 7, 4, 6, 6, 3, 3, 9, 2, 6, 4, 8, 6, 7,\n",
       "        5, 0, 0, 1, 1, 0, 0, 5])"
      ]
     },
     "execution_count": 9,
     "metadata": {},
     "output_type": "execute_result"
    }
   ],
   "source": [
    "image_train = next(iter(train_loader))[1]\n",
    "image_train"
   ]
  },
  {
   "cell_type": "code",
   "execution_count": 29,
   "metadata": {},
   "outputs": [],
   "source": [
    "import numpy as np\n",
    "import pandas as pd\n",
    "import matplotlib.pyplot as plt\n",
    "\n",
    "df = pd.read_csv(\"/Users/cpare/repos/VICReg_project/csv's/Classifer_metrics.csv\")\n",
    "epochs = np.array(df.iloc[:,0])\n",
    "train_loss = np.array(df.iloc[:,1])\n",
    "val_loss = np.array(df.iloc[:,2])"
   ]
  },
  {
   "cell_type": "code",
   "execution_count": 33,
   "metadata": {},
   "outputs": [
    {
     "data": {
      "text/plain": [
       "Text(0.5, 1.0, 'VICReg Model with Classification Task')"
      ]
     },
     "execution_count": 33,
     "metadata": {},
     "output_type": "execute_result"
    },
    {
     "data": {
      "image/png": "[encoded data removed]",
      "text/plain": [
       "<Figure size 432x288 with 1 Axes>"
      ]
     },
     "metadata": {
      "needs_background": "light"
     },
     "output_type": "display_data"
    }
   ],
   "source": [
    "plt.plot(epochs, train_loss, label = \"Train\")\n",
    "plt.plot(epochs, val_loss, label = \"Validation\", ls = \"--\")\n",
    "plt.xlabel(\"Epochs\")\n",
    "plt.ylabel(\"Cross Entropy Loss\")\n",
    "plt.legend()\n",
    "plt.title(\"VICReg Model with Classification Task\")"
   ]
  },
  {
   "cell_type": "code",
   "execution_count": 28,
   "metadata": {},
   "outputs": [
    {
     "data": {
      "text/plain": [
       "Text(0.5, 1.0, 'VICReg with 32 Dimensional Embedding Space')"
      ]
     },
     "execution_count": 28,
     "metadata": {},
     "output_type": "execute_result"
    },
    {
     "data": {
      "image/png": "[encoded data removed]",
      "text/plain": [
       "<Figure size 432x288 with 1 Axes>"
      ]
     },
     "metadata": {
      "needs_background": "light"
     },
     "output_type": "display_data"
    }
   ],
   "source": [
    "df = pd.read_csv(\"/Users/cpare/repos/VICReg_project/csv's/VICReg_metrics_64_space.csv\")\n",
    "epochs = np.array(df.iloc[:,0])\n",
    "train_loss = np.array(df.iloc[:,1])\n",
    "val_loss = np.array(df.iloc[:,2])\n",
    "\n",
    "plt.plot(epochs, train_loss, label = \"Train\")\n",
    "plt.plot(epochs, val_loss, label = \"Validation\")\n",
    "plt.xlabel(\"Epochs\")\n",
    "plt.ylabel(\"VICReg Loss\")\n",
    "plt.legend()\n",
    "plt.title(\"VICReg with 32 Dimensional Embedding Space\")"
   ]
  },
  {
   "cell_type": "code",
   "execution_count": 4,
   "metadata": {},
   "outputs": [
    {
     "data": {
      "text/html": [
       "<div>\n",
       "<style scoped>\n",
       "    .dataframe tbody tr th:only-of-type {\n",
       "        vertical-align: middle;\n",
       "    }\n",
       "\n",
       "    .dataframe tbody tr th {\n",
       "        vertical-align: top;\n",
       "    }\n",
       "\n",
       "    .dataframe thead th {\n",
       "        text-align: right;\n",
       "    }\n",
       "</style>\n",
       "<table border=\"1\" class=\"dataframe\">\n",
       "  <thead>\n",
       "    <tr style=\"text-align: right;\">\n",
       "      <th></th>\n",
       "      <th>Epoch</th>\n",
       "      <th>Train Loss</th>\n",
       "      <th>Val Loss</th>\n",
       "      <th>Train Accuracy</th>\n",
       "      <th>Val Accuracy</th>\n",
       "    </tr>\n",
       "  </thead>\n",
       "  <tbody>\n",
       "    <tr>\n",
       "      <th>0</th>\n",
       "      <td>0</td>\n",
       "      <td>2.305394</td>\n",
       "      <td>2.301235</td>\n",
       "      <td>NaN</td>\n",
       "      <td>NaN</td>\n",
       "    </tr>\n",
       "    <tr>\n",
       "      <th>1</th>\n",
       "      <td>1</td>\n",
       "      <td>2.256811</td>\n",
       "      <td>2.097641</td>\n",
       "      <td>23.830</td>\n",
       "      <td>42.41</td>\n",
       "    </tr>\n",
       "    <tr>\n",
       "      <th>2</th>\n",
       "      <td>2</td>\n",
       "      <td>1.501369</td>\n",
       "      <td>1.081663</td>\n",
       "      <td>59.672</td>\n",
       "      <td>70.14</td>\n",
       "    </tr>\n",
       "    <tr>\n",
       "      <th>3</th>\n",
       "      <td>3</td>\n",
       "      <td>0.896945</td>\n",
       "      <td>0.810068</td>\n",
       "      <td>74.048</td>\n",
       "      <td>76.30</td>\n",
       "    </tr>\n",
       "    <tr>\n",
       "      <th>4</th>\n",
       "      <td>4</td>\n",
       "      <td>0.711204</td>\n",
       "      <td>0.676227</td>\n",
       "      <td>79.258</td>\n",
       "      <td>80.14</td>\n",
       "    </tr>\n",
       "  </tbody>\n",
       "</table>\n",
       "</div>"
      ],
      "text/plain": [
       "   Epoch   Train Loss   Val Loss   Train Accuracy   Val Accuracy\n",
       "0      0     2.305394   2.301235              NaN            NaN\n",
       "1      1     2.256811   2.097641           23.830          42.41\n",
       "2      2     1.501369   1.081663           59.672          70.14\n",
       "3      3     0.896945   0.810068           74.048          76.30\n",
       "4      4     0.711204   0.676227           79.258          80.14"
      ]
     },
     "execution_count": 4,
     "metadata": {},
     "output_type": "execute_result"
    }
   ],
   "source": [
    "import numpy as np\n",
    "import pandas as pd\n",
    "import matplotlib.pyplot as plt\n",
    "df = pd.read_csv(\"/Users/cpare/repos/VICReg_project/csv's/Classifer_metrics.csv\")\n",
    "df.head()"
   ]
  },
  {
   "cell_type": "code",
   "execution_count": 8,
   "metadata": {},
   "outputs": [
    {
     "data": {
      "text/plain": [
       "[<matplotlib.lines.Line2D at 0x7f7ec1d09340>]"
      ]
     },
     "execution_count": 8,
     "metadata": {},
     "output_type": "execute_result"
    },
    {
     "data": {
      "image/png": "[encoded data removed]",
      "text/plain": [
       "<Figure size 432x288 with 1 Axes>"
      ]
     },
     "metadata": {
      "needs_background": "light"
     },
     "output_type": "display_data"
    }
   ],
   "source": [
    "epochs = np.array(df.iloc[:,0])\n",
    "t_loss = np.array(df.iloc[:,1])\n",
    "v_loss = np.array(df.iloc[:, 2])\n",
    "t_acc = np.array(df.iloc[:, 3])\n",
    "v_acc = np.array(df.iloc[:,4])\n",
    "\n",
    "plt.plot(epochs, t_loss)\n",
    "plt.plot(epochs, v_loss)"
   ]
  },
  {
   "cell_type": "code",
   "execution_count": 17,
   "metadata": {},
   "outputs": [
    {
     "data": {
      "image/png": "[encoded data removed]",
      "text/plain": [
       "<Figure size 432x288 with 1 Axes>"
      ]
     },
     "metadata": {
      "needs_background": "light"
     },
     "output_type": "display_data"
    }
   ],
   "source": [
    "plt.plot(epochs, t_acc, label = \"Train Accuracy\")\n",
    "plt.plot(epochs, v_acc, label = \"Validation Accuracy\")\n",
    "plt.legend()\n",
    "plt.xlabel(\"Epochs\")\n",
    "plt.ylabel(\"Accuracy\")\n",
    "plt.title(\"Train & Val Acc for classifier with VICReg transfer learning\")\n",
    "plt.savefig(\"/Users/cpare/repos/VICReg_project/plots/cc.pdf\")"
   ]
  },
  {
   "cell_type": "code",
   "execution_count": 22,
   "metadata": {},
   "outputs": [
    {
     "data": {
      "text/html": [
       "<div>\n",
       "<style scoped>\n",
       "    .dataframe tbody tr th:only-of-type {\n",
       "        vertical-align: middle;\n",
       "    }\n",
       "\n",
       "    .dataframe tbody tr th {\n",
       "        vertical-align: top;\n",
       "    }\n",
       "\n",
       "    .dataframe thead th {\n",
       "        text-align: right;\n",
       "    }\n",
       "</style>\n",
       "<table border=\"1\" class=\"dataframe\">\n",
       "  <thead>\n",
       "    <tr style=\"text-align: right;\">\n",
       "      <th></th>\n",
       "      <th>Epoch</th>\n",
       "      <th>Train Loss</th>\n",
       "      <th>Val Loss</th>\n",
       "      <th>Inv Loss</th>\n",
       "      <th>Var Loss</th>\n",
       "      <th>Cov Loss</th>\n",
       "    </tr>\n",
       "  </thead>\n",
       "  <tbody>\n",
       "    <tr>\n",
       "      <th>0</th>\n",
       "      <td>0</td>\n",
       "      <td>49.495831</td>\n",
       "      <td>49.495831</td>\n",
       "      <td>0.000062</td>\n",
       "      <td>49.495770</td>\n",
       "      <td>2.125054e-12</td>\n",
       "    </tr>\n",
       "    <tr>\n",
       "      <th>1</th>\n",
       "      <td>1</td>\n",
       "      <td>38.221622</td>\n",
       "      <td>44.711999</td>\n",
       "      <td>3.596839</td>\n",
       "      <td>41.040321</td>\n",
       "      <td>7.485141e-02</td>\n",
       "    </tr>\n",
       "    <tr>\n",
       "      <th>2</th>\n",
       "      <td>2</td>\n",
       "      <td>37.903207</td>\n",
       "      <td>38.704477</td>\n",
       "      <td>10.227702</td>\n",
       "      <td>28.275797</td>\n",
       "      <td>2.009792e-01</td>\n",
       "    </tr>\n",
       "    <tr>\n",
       "      <th>3</th>\n",
       "      <td>3</td>\n",
       "      <td>38.299519</td>\n",
       "      <td>38.101567</td>\n",
       "      <td>10.818326</td>\n",
       "      <td>27.036970</td>\n",
       "      <td>2.462768e-01</td>\n",
       "    </tr>\n",
       "    <tr>\n",
       "      <th>4</th>\n",
       "      <td>4</td>\n",
       "      <td>38.476800</td>\n",
       "      <td>37.995632</td>\n",
       "      <td>11.124565</td>\n",
       "      <td>26.611021</td>\n",
       "      <td>2.600401e-01</td>\n",
       "    </tr>\n",
       "  </tbody>\n",
       "</table>\n",
       "</div>"
      ],
      "text/plain": [
       "   Epoch   Train Loss   Val Loss   Inv Loss   Var Loss      Cov Loss\n",
       "0      0    49.495831  49.495831   0.000062  49.495770  2.125054e-12\n",
       "1      1    38.221622  44.711999   3.596839  41.040321  7.485141e-02\n",
       "2      2    37.903207  38.704477  10.227702  28.275797  2.009792e-01\n",
       "3      3    38.299519  38.101567  10.818326  27.036970  2.462768e-01\n",
       "4      4    38.476800  37.995632  11.124565  26.611021  2.600401e-01"
      ]
     },
     "execution_count": 22,
     "metadata": {},
     "output_type": "execute_result"
    }
   ],
   "source": [
    "import numpy as np\n",
    "import pandas as pd\n",
    "import matplotlib.pyplot as plt\n",
    "\n",
    "df = pd.read_csv(\"/Users/cpare/repos/VICReg_project/csv's/VICReg_metrics_64_space.csv\")\n",
    "df.head()\n"
   ]
  },
  {
   "cell_type": "code",
   "execution_count": 38,
   "metadata": {},
   "outputs": [
    {
     "data": {
      "image/png": "[encoded data removed]",
      "text/plain": [
       "<Figure size 432x288 with 1 Axes>"
      ]
     },
     "metadata": {
      "needs_background": "light"
     },
     "output_type": "display_data"
    }
   ],
   "source": [
    "epochs = np.array(df.iloc[:,0])\n",
    "train = np.array(df.iloc[:,1])\n",
    "val = np.array(df.iloc[:,2])\n",
    "\n",
    "plt.plot(epochs, train, label = \"Train\")\n",
    "plt.plot(epochs, val, label =  \"Validation\")\n",
    "plt.legend()\n",
    "plt.title(\"VICReg Model for 32 Dimensional Embedding Space\")\n",
    "plt.xlabel(\"Epochs\")\n",
    "plt.ylabel(\"VICReg Loss\")\n",
    "plt.savefig(\"/Users/cpare/repos/VICReg_project/plots/VICReg_32_loss.jpeg\")"
   ]
  },
  {
   "cell_type": "code",
   "execution_count": 30,
   "metadata": {},
   "outputs": [
    {
     "data": {
      "text/html": [
       "<div>\n",
       "<style scoped>\n",
       "    .dataframe tbody tr th:only-of-type {\n",
       "        vertical-align: middle;\n",
       "    }\n",
       "\n",
       "    .dataframe tbody tr th {\n",
       "        vertical-align: top;\n",
       "    }\n",
       "\n",
       "    .dataframe thead th {\n",
       "        text-align: right;\n",
       "    }\n",
       "</style>\n",
       "<table border=\"1\" class=\"dataframe\">\n",
       "  <thead>\n",
       "    <tr style=\"text-align: right;\">\n",
       "      <th></th>\n",
       "      <th>Epoch</th>\n",
       "      <th>Train Loss</th>\n",
       "      <th>Val Loss</th>\n",
       "      <th>Train Accuracy</th>\n",
       "      <th>Val Accuracy</th>\n",
       "    </tr>\n",
       "  </thead>\n",
       "  <tbody>\n",
       "    <tr>\n",
       "      <th>0</th>\n",
       "      <td>0</td>\n",
       "      <td>2.311790</td>\n",
       "      <td>2.315361</td>\n",
       "      <td>NaN</td>\n",
       "      <td>NaN</td>\n",
       "    </tr>\n",
       "    <tr>\n",
       "      <th>1</th>\n",
       "      <td>1</td>\n",
       "      <td>2.092123</td>\n",
       "      <td>1.622459</td>\n",
       "      <td>35.736</td>\n",
       "      <td>58.78</td>\n",
       "    </tr>\n",
       "    <tr>\n",
       "      <th>2</th>\n",
       "      <td>2</td>\n",
       "      <td>1.177116</td>\n",
       "      <td>0.881208</td>\n",
       "      <td>67.534</td>\n",
       "      <td>73.71</td>\n",
       "    </tr>\n",
       "    <tr>\n",
       "      <th>3</th>\n",
       "      <td>3</td>\n",
       "      <td>0.760993</td>\n",
       "      <td>0.673692</td>\n",
       "      <td>77.186</td>\n",
       "      <td>79.74</td>\n",
       "    </tr>\n",
       "    <tr>\n",
       "      <th>4</th>\n",
       "      <td>4</td>\n",
       "      <td>0.616039</td>\n",
       "      <td>0.566995</td>\n",
       "      <td>81.386</td>\n",
       "      <td>82.61</td>\n",
       "    </tr>\n",
       "  </tbody>\n",
       "</table>\n",
       "</div>"
      ],
      "text/plain": [
       "   Epoch   Train Loss   Val Loss   Train Accuracy   Val Accuracy\n",
       "0      0     2.311790   2.315361              NaN            NaN\n",
       "1      1     2.092123   1.622459           35.736          58.78\n",
       "2      2     1.177116   0.881208           67.534          73.71\n",
       "3      3     0.760993   0.673692           77.186          79.74\n",
       "4      4     0.616039   0.566995           81.386          82.61"
      ]
     },
     "execution_count": 30,
     "metadata": {},
     "output_type": "execute_result"
    }
   ],
   "source": [
    "df2 = pd.read_csv(\"/Users/cpare/repos/VICReg_project/csv's/Classifer_metrics.csv\")\n",
    "df2.head()"
   ]
  },
  {
   "cell_type": "code",
   "execution_count": 39,
   "metadata": {},
   "outputs": [
    {
     "data": {
      "image/png": "[encoded data removed]",
      "text/plain": [
       "<Figure size 432x288 with 1 Axes>"
      ]
     },
     "metadata": {
      "needs_background": "light"
     },
     "output_type": "display_data"
    }
   ],
   "source": [
    "epochs = np.array(df2.iloc[:,0])\n",
    "t = np.array(df2.iloc[:,1])\n",
    "v = np.array(df2.iloc[:,2])\n",
    "t_acc = np.array(df2.iloc[:,3])\n",
    "v_acc = np.array(df2.iloc[:,4])\n",
    "\n",
    "plt.plot(epochs, t, label = \"Train\")\n",
    "plt.plot(epochs, v, label = \"Val\")\n",
    "plt.legend()\n",
    "plt.xlabel(\"Epochs\")\n",
    "plt.ylabel(\"Cross Entropy Loss\")\n",
    "plt.title(\"Loss for VICReg Classifier\")\n",
    "plt.savefig(\"/Users/cpare/repos/VICReg_project/plots/VICReg_classifier_loss.jpeg\")"
   ]
  },
  {
   "cell_type": "code",
   "execution_count": 40,
   "metadata": {},
   "outputs": [
    {
     "data": {
      "image/png": "[encoded data removed]",
      "text/plain": [
       "<Figure size 432x288 with 1 Axes>"
      ]
     },
     "metadata": {
      "needs_background": "light"
     },
     "output_type": "display_data"
    }
   ],
   "source": [
    "plt.plot(epochs, t_acc, label = \"Train\")\n",
    "plt.plot(epochs, v_acc, label = \"Val\")\n",
    "plt.title(\"Accuracy for VICReg Classifier\")\n",
    "plt.legend()\n",
    "plt.xlabel(\"Epochs\")\n",
    "plt.ylabel(\"Accuracy\")\n",
    "plt.savefig(\"/Users/cpare/repos/VICReg_project/plots/VICReg_classifier_acc.jpeg\")"
   ]
  },
  {
   "cell_type": "code",
   "execution_count": null,
   "metadata": {},
   "outputs": [],
   "source": []
  }
 ],
 "metadata": {
  "kernelspec": {
   "display_name": "myenv",
   "language": "python",
   "name": "python3"
  },
  "language_info": {
   "codemirror_mode": {
    "name": "ipython",
    "version": 3
   },
   "file_extension": ".py",
   "mimetype": "text/x-python",
   "name": "python",
   "nbconvert_exporter": "python",
   "pygments_lexer": "ipython3",
   "version": "3.9.7"
  },
  "orig_nbformat": 4,
  "vscode": {
   "interpreter": {
    "hash": "778ce5d35af1dda3b7990d3b1b584fe8bd02fd4e1fafa51f18e59d98f620d5dc"
   }
  }
 },
 "nbformat": 4,
 "nbformat_minor": 2
}
