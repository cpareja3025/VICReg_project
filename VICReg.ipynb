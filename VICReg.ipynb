{
 "cells": [
  {
   "cell_type": "code",
   "execution_count": 31,
   "metadata": {},
   "outputs": [],
   "source": [
    "import torch\n",
    "import torch.nn as nn\n",
    "import torch.nn.functional as F\n",
    "import torchvision\n",
    "import torchvision.transforms as transforms\n",
    "import numpy as np\n",
    "import pandas as pd\n",
    "from torch.utils.data import DataLoader, Dataset\n",
    "from torch.utils.data import random_split\n",
    "import matplotlib.pyplot as plt\n",
    "from torchinfo import summary"
   ]
  },
  {
   "cell_type": "code",
   "execution_count": 2,
   "metadata": {},
   "outputs": [
    {
     "name": "stdout",
     "output_type": "stream",
     "text": [
      "5\n"
     ]
    },
    {
     "data": {
      "text/plain": [
       "<matplotlib.image.AxesImage at 0x7fb27909faf0>"
      ]
     },
     "execution_count": 2,
     "metadata": {},
     "output_type": "execute_result"
    },
    {
     "data": {
      "image/png": "[encoded data removed]",
      "text/plain": [
       "<Figure size 432x288 with 1 Axes>"
      ]
     },
     "metadata": {
      "needs_background": "light"
     },
     "output_type": "display_data"
    }
   ],
   "source": [
    "train_dataset = torchvision.datasets.MNIST(root=\"./\", train=True, download=True)\n",
    "image, label = train_dataset[11]\n",
    "print(label)\n",
    "plt.imshow(image, cmap=\"gray\")\n",
    "a = transforms.Resize(252)(image)\n",
    "plt.imshow(a, cmap=\"gray\")"
   ]
  },
  {
   "attachments": {},
   "cell_type": "markdown",
   "metadata": {},
   "source": [
    "# Training Vanilla CNN for MNIST Data"
   ]
  },
  {
   "cell_type": "code",
   "execution_count": 4,
   "metadata": {},
   "outputs": [
    {
     "name": "stdout",
     "output_type": "stream",
     "text": [
      "Epoch [1/1], Step [100/1875], Loss: 0.6733 \n",
      "Epoch [1/1], Step [200/1875], Loss: 0.2787 \n",
      "Epoch [1/1], Step [300/1875], Loss: 0.3791 \n",
      "Epoch [1/1], Step [400/1875], Loss: 0.3074 \n",
      "Epoch [1/1], Step [500/1875], Loss: 0.1071 \n",
      "Epoch [1/1], Step [600/1875], Loss: 0.1207 \n",
      "Epoch [1/1], Step [700/1875], Loss: 0.1889 \n",
      "Epoch [1/1], Step [800/1875], Loss: 0.4430 \n",
      "Epoch [1/1], Step [900/1875], Loss: 0.2902 \n",
      "Epoch [1/1], Step [1000/1875], Loss: 0.1656 \n",
      "Epoch [1/1], Step [1100/1875], Loss: 0.0938 \n",
      "Epoch [1/1], Step [1200/1875], Loss: 0.2238 \n",
      "Epoch [1/1], Step [1300/1875], Loss: 0.0591 \n",
      "Epoch [1/1], Step [1400/1875], Loss: 0.0747 \n",
      "Epoch [1/1], Step [1500/1875], Loss: 0.1415 \n",
      "Epoch [1/1], Step [1600/1875], Loss: 0.0189 \n",
      "Epoch [1/1], Step [1700/1875], Loss: 0.0102 \n",
      "Epoch [1/1], Step [1800/1875], Loss: 0.0465 \n"
     ]
    }
   ],
   "source": [
    "#Hyper Parameters\n",
    "batch_size = 32\n",
    "learning_rate = 0.001\n",
    "epochs = 1\n",
    "device = torch.device('cuda' if torch.cuda.is_available() else 'cpu')\n",
    "\n",
    "transform = transforms.Compose([transforms.ToTensor(), transforms.Normalize(mean=0.1307, std=0.3081)])\n",
    "train_dataset = torchvision.datasets.MNIST(root=\"./\", train=True, download=True, transform=transform)\n",
    "test_dataset = torchvision.datasets.MNIST(root=\"./\", train=False, download=True, transform=transform)\n",
    "train_loader = DataLoader(train_dataset, batch_size=batch_size, shuffle=True)\n",
    "test_loader = DataLoader(test_dataset, batch_size=batch_size, shuffle=True)\n",
    "\n",
    "class CNN(nn.Module):\n",
    "    def __init__(self):\n",
    "        super(CNN, self).__init__()\n",
    "        self.conv1 = nn.Conv2d(1, 12, kernel_size=1)\n",
    "        self.conv2 = nn.Conv2d(12, 6, kernel_size=3)\n",
    "        self.max_pool = nn.MaxPool2d(2, 2)\n",
    "        self.fc1 = nn.Linear(1014, 256)\n",
    "        self.fc2 = nn.Linear(256, 128)\n",
    "        self.fc3 = nn.Linear(128,10)\n",
    "\n",
    "    def forward(self, x):\n",
    "        x = F.relu(self.conv1(x))\n",
    "        x = F.relu(self.conv2(x))\n",
    "        x = self.max_pool(x)\n",
    "        x = x.view(-1, 1014)\n",
    "        x = F.relu(self.fc1(x))\n",
    "        x = F.relu(self.fc2(x))\n",
    "        x = self.fc3(x)\n",
    "        return x\n",
    "    \n",
    "model = CNN().to(device=device)\n",
    "criterion = nn.CrossEntropyLoss()\n",
    "optimizer = torch.optim.Adam(model.parameters(), lr = learning_rate)\n",
    "\n",
    "n_total_steps = len(train_loader)\n",
    "for epoch in range(epochs):\n",
    "    for i, (images, labels) in enumerate(train_loader):\n",
    "        images = images.to(device)\n",
    "        labels = labels.to(device)\n",
    "\n",
    "        outputs = model(images)\n",
    "        loss = criterion(outputs, labels)\n",
    "\n",
    "        optimizer.zero_grad()\n",
    "        loss.backward()\n",
    "        optimizer.step()\n",
    "\n",
    "        if (i+1) % 100 == 0:\n",
    "            print(f'Epoch [{epoch+1}/{epochs}], Step [{i+1}/{n_total_steps}], Loss: {loss.item():.4f} ')"
   ]
  },
  {
   "cell_type": "code",
   "execution_count": 11,
   "metadata": {},
   "outputs": [
    {
     "name": "stdout",
     "output_type": "stream",
     "text": [
      "torch.Size([32, 1, 20, 20])\n",
      "Tensor shape after first Conv Layer: torch.Size([32, 32, 20, 20]) \n",
      "Tensor shape after second Conv Layer: torch.Size([32, 64, 18, 18])\n",
      "Tensor shape after MaxPool Layer: torch.Size([32, 64, 9, 9])\n",
      "torch.Size([32, 5184])\n",
      "Tensor shape after first FC Layer: torch.Size([32, 256])\n",
      "Tensor shape after second FC Layer: torch.Size([32, 128])\n",
      "Tensor shape after third FC Layer: torch.Size([32, 10])\n"
     ]
    }
   ],
   "source": [
    "def data_aug(img_tensor):\n",
    "    aug = transforms.RandomResizedCrop(20, scale=(0.08,0.1))(img_tensor)\n",
    "    aug = transforms.RandomHorizontalFlip(p=0.5)(aug)\n",
    "    aug = transforms.ColorJitter(brightness=0.4, contrast=0.4, saturation=0.2, hue=0.1)(aug)\n",
    "    #aug = transforms.RandomGrayscale(0.2)(aug)\n",
    "    aug = transforms.GaussianBlur(kernel_size=23, sigma=0.5)(aug)\n",
    "    aug = transforms.RandomSolarize(threshold=0.3,p=0.1)(aug)\n",
    "    #aug = transforms.Normalize()(aug)\n",
    "    return aug\n",
    "    \n",
    "\n",
    "N = 32\n",
    "data = torch.rand(N,1,20,20)\n",
    "data = data_aug(data)\n",
    "print(data.shape)\n",
    "conv1 = nn.Conv2d(1, 32, kernel_size=1)\n",
    "conv2 = nn.Conv2d(32, 64, kernel_size=3)\n",
    "max_pool = nn.MaxPool2d(2, 2)\n",
    "x = conv1(data)\n",
    "print(f\"Tensor shape after first Conv Layer: {x.shape} \")\n",
    "x = conv2(x)\n",
    "print(f\"Tensor shape after second Conv Layer: {x.shape}\")\n",
    "x = max_pool(x)\n",
    "print(f\"Tensor shape after MaxPool Layer: {x.shape}\")\n",
    "x = x.view(-1,5184)\n",
    "print(x.shape)\n",
    "fc1 = nn.Linear(5184, 256)\n",
    "x = fc1(x)\n",
    "print(f\"Tensor shape after first FC Layer: {x.shape}\")\n",
    "fc2 = nn.Linear(256, 128)\n",
    "x = fc2(x)\n",
    "print(f\"Tensor shape after second FC Layer: {x.shape}\")\n",
    "fc3 = nn.Linear(128,10)\n",
    "x = fc3(x)\n",
    "print(f\"Tensor shape after third FC Layer: {x.shape}\")"
   ]
  },
  {
   "attachments": {},
   "cell_type": "markdown",
   "metadata": {},
   "source": [
    "## Testing Torch Augmentations"
   ]
  },
  {
   "cell_type": "code",
   "execution_count": 7,
   "metadata": {},
   "outputs": [
    {
     "name": "stdout",
     "output_type": "stream",
     "text": [
      "Epoch [1/1], Step [100/1875], Loss: 2.3179 \n",
      "Epoch [1/1], Step [200/1875], Loss: 2.3040 \n",
      "Epoch [1/1], Step [300/1875], Loss: 2.3448 \n",
      "Epoch [1/1], Step [400/1875], Loss: 2.2355 \n",
      "Epoch [1/1], Step [500/1875], Loss: 2.2036 \n",
      "Epoch [1/1], Step [600/1875], Loss: 2.2517 \n",
      "Epoch [1/1], Step [700/1875], Loss: 2.2996 \n",
      "Epoch [1/1], Step [800/1875], Loss: 2.2830 \n",
      "Epoch [1/1], Step [900/1875], Loss: 2.2156 \n",
      "Epoch [1/1], Step [1000/1875], Loss: 2.2059 \n",
      "Epoch [1/1], Step [1100/1875], Loss: 2.3068 \n",
      "Epoch [1/1], Step [1200/1875], Loss: 2.2305 \n",
      "Epoch [1/1], Step [1300/1875], Loss: 2.3327 \n",
      "Epoch [1/1], Step [1400/1875], Loss: 2.2938 \n",
      "Epoch [1/1], Step [1500/1875], Loss: 2.0780 \n",
      "Epoch [1/1], Step [1600/1875], Loss: 2.1877 \n",
      "Epoch [1/1], Step [1700/1875], Loss: 2.1863 \n",
      "Epoch [1/1], Step [1800/1875], Loss: 2.1506 \n"
     ]
    }
   ],
   "source": [
    "#Hyper Parameters\n",
    "batch_size = 32\n",
    "learning_rate = 0.001\n",
    "epochs = 1\n",
    "\n",
    "transform = transforms.Compose([transforms.ToTensor(), transforms.Normalize(mean=0.1307, std=0.3081)])\n",
    "train_dataset = torchvision.datasets.MNIST(root=\"./\", train=True, download=True, transform=transform)\n",
    "test_dataset = torchvision.datasets.MNIST(root=\"./\", train=False, download=True, transform=transform)\n",
    "train_loader = DataLoader(train_dataset, batch_size=batch_size, shuffle=True)\n",
    "test_loader = DataLoader(test_dataset, batch_size=batch_size, shuffle=True)\n",
    "\n",
    "device = torch.device('cuda' if torch.cuda.is_available() else 'cpu')\n",
    "\n",
    "\n",
    "class CNN_augs(nn.Module):\n",
    "    def __init__(self):\n",
    "        super(CNN_augs, self).__init__()\n",
    "        self.conv1 = nn.Conv2d(1, 12, kernel_size=1)\n",
    "        self.conv2 = nn.Conv2d(12, 6, kernel_size=3)\n",
    "        self.max_pool = nn.MaxPool2d(2, 2)\n",
    "        self.fc1 = nn.Linear(486, 256)\n",
    "        self.fc2 = nn.Linear(256, 128)\n",
    "        # change output channels to multiples of 2 --> maybe 16, 32??\n",
    "        self.fc3 = nn.Linear(128,10)\n",
    "\n",
    "    def forward(self, x):\n",
    "        x = F.relu(self.conv1(x))\n",
    "        x = F.relu(self.conv2(x))\n",
    "        x = self.max_pool(x)\n",
    "        x = x.view(-1,486)\n",
    "        x = F.relu(self.fc1(x))\n",
    "        x = F.relu(self.fc2(x))\n",
    "        x = self.fc3(x)\n",
    "        return x\n",
    "    def data_aug(self, img_tensor):\n",
    "        aug = transforms.RandomResizedCrop(20, scale=(0.08,0.1))(img_tensor)\n",
    "        aug = transforms.RandomHorizontalFlip(p=0.5)(aug)\n",
    "        aug = transforms.ColorJitter(brightness=0.4, contrast=0.4, saturation=0.2, hue=0.1)(aug)\n",
    "        #aug = transforms.RandomGrayscale(0.2)(aug)\n",
    "        aug = transforms.GaussianBlur(kernel_size=23, sigma=0.5)(aug)\n",
    "        aug = transforms.RandomSolarize(threshold=0.3,p=0.1)(aug)\n",
    "        #aug = transforms.Normalize()(aug)\n",
    "        return aug\n",
    "    \n",
    "\n",
    "model = CNN_augs().to(device=device)\n",
    "criterion = nn.CrossEntropyLoss()\n",
    "optimizer = torch.optim.Adam(model.parameters(), lr = learning_rate)\n",
    "\n",
    "n_total_steps = len(train_loader)\n",
    "for epoch in range(epochs):\n",
    "    for i, (images, labels) in enumerate(train_loader):\n",
    "        images = images.to(device)\n",
    "        images = model.data_aug(images)\n",
    "        labels = labels.to(device)\n",
    "\n",
    "        outputs = model(images)\n",
    "        # compute loss between two different data augs!\n",
    "        loss = criterion(outputs, labels)\n",
    "\n",
    "        optimizer.zero_grad()\n",
    "        loss.backward()\n",
    "        optimizer.step()\n",
    "\n",
    "        if (i+1) % 100 == 0:\n",
    "            print(f'Epoch [{epoch+1}/{epochs}], Step [{i+1}/{n_total_steps}], Loss: {loss.item():.4f} ')"
   ]
  },
  {
   "cell_type": "code",
   "execution_count": 6,
   "metadata": {},
   "outputs": [
    {
     "data": {
      "text/plain": [
       "==========================================================================================\n",
       "Layer (type:depth-idx)                   Output Shape              Param #\n",
       "==========================================================================================\n",
       "CNN_augs                                 [128, 10]                 --\n",
       "├─Conv2d: 1-1                            [128, 12, 20, 20]         24\n",
       "├─Conv2d: 1-2                            [128, 6, 18, 18]          654\n",
       "├─MaxPool2d: 1-3                         [128, 6, 9, 9]            --\n",
       "├─Linear: 1-4                            [128, 256]                124,672\n",
       "├─Linear: 1-5                            [128, 128]                32,896\n",
       "├─Linear: 1-6                            [128, 10]                 1,290\n",
       "==========================================================================================\n",
       "Total params: 159,536\n",
       "Trainable params: 159,536\n",
       "Non-trainable params: 0\n",
       "Total mult-adds (M): 48.69\n",
       "==========================================================================================\n",
       "Input size (MB): 0.20\n",
       "Forward/backward pass size (MB): 7.31\n",
       "Params size (MB): 0.64\n",
       "Estimated Total Size (MB): 8.15\n",
       "=========================================================================================="
      ]
     },
     "execution_count": 6,
     "metadata": {},
     "output_type": "execute_result"
    }
   ],
   "source": [
    "model = CNN_augs().to(device=device)\n",
    "summary(model, input_size=[(batch_size, 1, 20, 20)])"
   ]
  },
  {
   "attachments": {},
   "cell_type": "markdown",
   "metadata": {},
   "source": [
    "# Implementing VICReg"
   ]
  },
  {
   "cell_type": "code",
   "execution_count": 30,
   "metadata": {},
   "outputs": [
    {
     "name": "stdout",
     "output_type": "stream",
     "text": [
      "==========================================================================================\n",
      "Layer (type:depth-idx)                   Output Shape              Param #\n",
      "==========================================================================================\n",
      "CNN_augs                                 [32, 10]                  --\n",
      "├─Conv2d: 1-1                            [32, 32, 20, 20]          64\n",
      "├─Conv2d: 1-2                            [32, 64, 18, 18]          18,496\n",
      "├─MaxPool2d: 1-3                         [32, 64, 9, 9]            --\n",
      "├─Linear: 1-4                            [32, 256]                 1,327,360\n",
      "├─Linear: 1-5                            [32, 128]                 32,896\n",
      "├─Linear: 1-6                            [32, 10]                  1,290\n",
      "==========================================================================================\n",
      "Total params: 1,380,106\n",
      "Trainable params: 1,380,106\n",
      "Non-trainable params: 0\n",
      "Total mult-adds (M): 236.16\n",
      "==========================================================================================\n",
      "Input size (MB): 0.05\n",
      "Forward/backward pass size (MB): 8.69\n",
      "Params size (MB): 5.52\n",
      "Estimated Total Size (MB): 14.26\n",
      "==========================================================================================\n",
      "Epoch [1/1], Step [100/1875], Loss: 0.1959 \n",
      "Epoch [1/1], Step [200/1875], Loss: 0.1963 \n",
      "Epoch [1/1], Step [300/1875], Loss: 0.1950 \n",
      "Epoch [1/1], Step [400/1875], Loss: 0.1951 \n",
      "Epoch [1/1], Step [500/1875], Loss: 0.1950 \n",
      "Epoch [1/1], Step [600/1875], Loss: 0.1939 \n",
      "Epoch [1/1], Step [700/1875], Loss: 0.1958 \n"
     ]
    },
    {
     "ename": "KeyboardInterrupt",
     "evalue": "",
     "output_type": "error",
     "traceback": [
      "\u001b[0;31m---------------------------------------------------------------------------\u001b[0m",
      "\u001b[0;31mKeyboardInterrupt\u001b[0m                         Traceback (most recent call last)",
      "\u001b[1;32m/Users/cpare/repos/VICReg_project/VICReg.ipynb Cell 10\u001b[0m in \u001b[0;36m<module>\u001b[0;34m\u001b[0m\n\u001b[1;32m     <a href='vscode-notebook-cell:/Users/cpare/repos/VICReg_project/VICReg.ipynb#X12sZmlsZQ%3D%3D?line=98'>99</a>\u001b[0m loss \u001b[39m=\u001b[39m (sim_loss) \u001b[39m+\u001b[39m (mu \u001b[39m*\u001b[39m std_loss) \u001b[39m+\u001b[39m (nu\u001b[39m*\u001b[39mcov_loss)\n\u001b[1;32m    <a href='vscode-notebook-cell:/Users/cpare/repos/VICReg_project/VICReg.ipynb#X12sZmlsZQ%3D%3D?line=100'>101</a>\u001b[0m optimizer\u001b[39m.\u001b[39mzero_grad()\n\u001b[0;32m--> <a href='vscode-notebook-cell:/Users/cpare/repos/VICReg_project/VICReg.ipynb#X12sZmlsZQ%3D%3D?line=101'>102</a>\u001b[0m loss\u001b[39m.\u001b[39;49mbackward()\n\u001b[1;32m    <a href='vscode-notebook-cell:/Users/cpare/repos/VICReg_project/VICReg.ipynb#X12sZmlsZQ%3D%3D?line=102'>103</a>\u001b[0m optimizer\u001b[39m.\u001b[39mstep()\n\u001b[1;32m    <a href='vscode-notebook-cell:/Users/cpare/repos/VICReg_project/VICReg.ipynb#X12sZmlsZQ%3D%3D?line=104'>105</a>\u001b[0m running_loss \u001b[39m+\u001b[39m\u001b[39m=\u001b[39m loss\u001b[39m.\u001b[39mitem() \u001b[39m*\u001b[39m image_i\u001b[39m.\u001b[39msize(\u001b[39m1\u001b[39m)\n",
      "File \u001b[0;32m~/opt/anaconda3/envs/myenv/lib/python3.9/site-packages/torch/_tensor.py:307\u001b[0m, in \u001b[0;36mTensor.backward\u001b[0;34m(self, gradient, retain_graph, create_graph, inputs)\u001b[0m\n\u001b[1;32m    298\u001b[0m \u001b[39mif\u001b[39;00m has_torch_function_unary(\u001b[39mself\u001b[39m):\n\u001b[1;32m    299\u001b[0m     \u001b[39mreturn\u001b[39;00m handle_torch_function(\n\u001b[1;32m    300\u001b[0m         Tensor\u001b[39m.\u001b[39mbackward,\n\u001b[1;32m    301\u001b[0m         (\u001b[39mself\u001b[39m,),\n\u001b[0;32m   (...)\u001b[0m\n\u001b[1;32m    305\u001b[0m         create_graph\u001b[39m=\u001b[39mcreate_graph,\n\u001b[1;32m    306\u001b[0m         inputs\u001b[39m=\u001b[39minputs)\n\u001b[0;32m--> 307\u001b[0m torch\u001b[39m.\u001b[39;49mautograd\u001b[39m.\u001b[39;49mbackward(\u001b[39mself\u001b[39;49m, gradient, retain_graph, create_graph, inputs\u001b[39m=\u001b[39;49minputs)\n",
      "File \u001b[0;32m~/opt/anaconda3/envs/myenv/lib/python3.9/site-packages/torch/autograd/__init__.py:154\u001b[0m, in \u001b[0;36mbackward\u001b[0;34m(tensors, grad_tensors, retain_graph, create_graph, grad_variables, inputs)\u001b[0m\n\u001b[1;32m    151\u001b[0m \u001b[39mif\u001b[39;00m retain_graph \u001b[39mis\u001b[39;00m \u001b[39mNone\u001b[39;00m:\n\u001b[1;32m    152\u001b[0m     retain_graph \u001b[39m=\u001b[39m create_graph\n\u001b[0;32m--> 154\u001b[0m Variable\u001b[39m.\u001b[39;49m_execution_engine\u001b[39m.\u001b[39;49mrun_backward(\n\u001b[1;32m    155\u001b[0m     tensors, grad_tensors_, retain_graph, create_graph, inputs,\n\u001b[1;32m    156\u001b[0m     allow_unreachable\u001b[39m=\u001b[39;49m\u001b[39mTrue\u001b[39;49;00m, accumulate_grad\u001b[39m=\u001b[39;49m\u001b[39mTrue\u001b[39;49;00m)\n",
      "\u001b[0;31mKeyboardInterrupt\u001b[0m: "
     ]
    }
   ],
   "source": [
    "#Hyper Parameters\n",
    "batch_size = 32\n",
    "learning_rate = 0.0001\n",
    "epochs = 1\n",
    "# Dimension (D) of the representations\n",
    "embedding_dimension = 10\n",
    "lam = 1\n",
    "mu = 0.1\n",
    "nu = 1e-09\n",
    "\n",
    "transform = transforms.Compose([transforms.ToTensor(), transforms.Normalize(mean=0.1307, std=0.3081)])\n",
    "train_dataset = torchvision.datasets.MNIST(root=\"./\", train=True, download=True, transform=transform)\n",
    "test_dataset = torchvision.datasets.MNIST(root=\"./\", train=False, download=True, transform=transform)\n",
    "train_loader = DataLoader(train_dataset, batch_size=batch_size, shuffle=True)\n",
    "test_loader = DataLoader(test_dataset, batch_size=batch_size, shuffle=True)\n",
    "\n",
    "device = torch.device('cuda' if torch.cuda.is_available() else 'cpu')\n",
    "\n",
    "\n",
    "class CNN_augs(nn.Module):\n",
    "    def __init__(self):\n",
    "        super(CNN_augs, self).__init__()\n",
    "        #32 output channels --> change kernel size to 3 or 5\n",
    "        self.conv1 = nn.Conv2d(1, 32, kernel_size=1)\n",
    "        #64 output channels --> \n",
    "        self.conv2 = nn.Conv2d(32, 64, kernel_size=3)\n",
    "        self.max_pool = nn.MaxPool2d(2, 2)\n",
    "        self.fc1 = nn.Linear(5184, 256)\n",
    "        self.fc2 = nn.Linear(256, 128)\n",
    "        # 3 fully connected layers\n",
    "        # embedding dimension will be 32\n",
    "        self.fc3 = nn.Linear(128,embedding_dimension)\n",
    "\n",
    "    def forward(self, x):\n",
    "        x = F.relu(self.conv1(x))\n",
    "        x = F.relu(self.conv2(x))\n",
    "        x = self.max_pool(x)\n",
    "        x = x.view(-1,5184)\n",
    "        x = F.relu(self.fc1(x))\n",
    "        x = F.relu(self.fc2(x))\n",
    "        x = self.fc3(x)\n",
    "        return x\n",
    "    def data_aug(self, img_tensor):\n",
    "        aug = transforms.RandomResizedCrop(20, scale=(0.08,0.1))(img_tensor)\n",
    "        aug = transforms.RandomHorizontalFlip(p=0.5)(aug)\n",
    "        aug = transforms.ColorJitter(brightness=0.4, contrast=0.4, saturation=0.2, hue=0.1)(aug)\n",
    "        #aug = transforms.RandomGrayscale(0.2)(aug)\n",
    "        aug = transforms.GaussianBlur(kernel_size=23, sigma=0.5)(aug)\n",
    "        aug = transforms.RandomSolarize(threshold=0.3,p=0.1)(aug)\n",
    "        #aug = transforms.Normalize()(aug)\n",
    "        return aug\n",
    "    def off_diagonal(self, x):\n",
    "        n, m = x.shape\n",
    "        assert n == m\n",
    "        return x.flatten()[:-1].view(n - 1, n + 1)[:, 1:].flatten()\n",
    "        \n",
    "    \n",
    "\n",
    "model_vicreg = CNN_augs().to(device=device)\n",
    "print(summary(model_vicreg, input_size=[(batch_size, 1, 20, 20)]))\n",
    "# criterion = nn.CrossEntropyLoss()\n",
    "optimizer = torch.optim.Adam(model_vicreg.parameters(), lr = learning_rate)\n",
    "\n",
    "f = open(\"/Users/cpare/repos/VICReg_project/csv's/VICReg_metrics2.csv\",\"w+\" )\n",
    "f.write(\"Epoch, Loss\\n\")\n",
    "f.close()\n",
    "n_total_steps = len(train_loader)\n",
    "for epoch in range(epochs):\n",
    "    running_loss = 0.0\n",
    "    for i, (images, labels) in enumerate(train_loader):\n",
    "        images = images.to(device)\n",
    "        # two randomly augmented versions of image\n",
    "        image_i = model_vicreg.data_aug(images)\n",
    "        image_j = model_vicreg.data_aug(images)\n",
    "\n",
    "        labels = labels.to(device)\n",
    "        #compute representations\n",
    "        output_i = model_vicreg(image_i)\n",
    "        output_j = model_vicreg(image_j)\n",
    "\n",
    "        #invariance loss\n",
    "        sim_loss = nn.MSELoss()\n",
    "        sim_loss = lam * sim_loss(output_i, output_j)\n",
    "\n",
    "        #variance loss\n",
    "        std_output_i = torch.sqrt(torch.var(output_i, dim=0) + 1e-04)\n",
    "        std_output_j = torch.sqrt(torch.var(output_j, dim = 0) + 1e-04)\n",
    "        std_loss = torch.mean(F.relu(1-std_output_i)) + torch.mean(F.relu(1-std_output_j))\n",
    "\n",
    "        #covariance loss\n",
    "        output_i = output_i - torch.mean(output_i, dim=0)\n",
    "        output_j = output_j - torch.mean(output_j, dim=0)\n",
    "        cov_output_i = (torch.matmul(torch.transpose(output_i, 0, 1), output_i) / (batch_size -1))\n",
    "        cov_output_j = (torch.matmul(torch.transpose(output_j, 0, 1), output_j) / (batch_size -1))\n",
    "        cov_loss = (model_vicreg.off_diagonal(cov_output_i).pow(2).sum() / embedding_dimension) + (model_vicreg.off_diagonal(cov_output_j).pow(2).sum() / embedding_dimension)\n",
    "\n",
    "        # compute loss between two different data augs!\n",
    "        # train for 20 epochs and make a loss curve\n",
    "        loss = (sim_loss) + (mu * std_loss) + (nu*cov_loss)\n",
    "\n",
    "        optimizer.zero_grad()\n",
    "        loss.backward()\n",
    "        optimizer.step()\n",
    "\n",
    "        running_loss += loss.item() * image_i.size(1)\n",
    "\n",
    "        if (i+1) % 100 == 0:\n",
    "            print(f'Epoch [{epoch+1}/{epochs}], Step [{i+1}/{n_total_steps}], Loss: {loss.item():.4f} ')\n",
    "    epoch_loss = running_loss / len(train_loader)\n",
    "    f = open(\"/Users/cpare/repos/VICReg_project/csv's/VICReg_metrics2.csv\", \"a\")\n",
    "    f.write(f\"{epoch + 1}, {epoch_loss}\\n\")\n",
    "    f.close()"
   ]
  },
  {
   "cell_type": "markdown",
   "metadata": {},
   "source": []
  },
  {
   "attachments": {},
   "cell_type": "markdown",
   "metadata": {},
   "source": [
    "## Downstream tasks\n",
    "- **Classification**\n",
    "- Regression\n",
    "- Simulate representation of the data\n",
    "- Autoencoder --> anomaly detection"
   ]
  },
  {
   "cell_type": "code",
   "execution_count": 81,
   "metadata": {},
   "outputs": [],
   "source": [
    "def off_diagonal(x):\n",
    "    n, m = x.shape\n",
    "    # checking we have a square matrix where columns and rows are the same\n",
    "    assert n == m\n",
    "    off_diag = x.clone()\n",
    "    off_diag = off_diag.flatten()\n",
    "    # getting all elements except the last corner element\n",
    "    off_diag  = off_diag[:-1]\n",
    "    # reshape the tensor with remaining elements\n",
    "    off_diag = off_diag.view(n-1, n+1)\n",
    "    # the first slice is gathering all rows, the second slice is getting every columns except the first \n",
    "    off_diag = off_diag[:, 1:]\n",
    "    # flattening matrix\n",
    "    off_diag = off_diag.flatten()\n",
    "    return off_diag\n",
    "    #return x.flatten()[:-1].view(n - 1, n + 1)[:, 1:].flatten()"
   ]
  },
  {
   "cell_type": "code",
   "execution_count": 34,
   "metadata": {},
   "outputs": [
    {
     "data": {
      "text/html": [
       "<div>\n",
       "<style scoped>\n",
       "    .dataframe tbody tr th:only-of-type {\n",
       "        vertical-align: middle;\n",
       "    }\n",
       "\n",
       "    .dataframe tbody tr th {\n",
       "        vertical-align: top;\n",
       "    }\n",
       "\n",
       "    .dataframe thead th {\n",
       "        text-align: right;\n",
       "    }\n",
       "</style>\n",
       "<table border=\"1\" class=\"dataframe\">\n",
       "  <thead>\n",
       "    <tr style=\"text-align: right;\">\n",
       "      <th></th>\n",
       "      <th>Epoch</th>\n",
       "      <th>Loss</th>\n",
       "    </tr>\n",
       "  </thead>\n",
       "  <tbody>\n",
       "    <tr>\n",
       "      <th>0</th>\n",
       "      <td>1</td>\n",
       "      <td>0.195379</td>\n",
       "    </tr>\n",
       "    <tr>\n",
       "      <th>1</th>\n",
       "      <td>2</td>\n",
       "      <td>0.195063</td>\n",
       "    </tr>\n",
       "    <tr>\n",
       "      <th>2</th>\n",
       "      <td>3</td>\n",
       "      <td>0.195006</td>\n",
       "    </tr>\n",
       "    <tr>\n",
       "      <th>3</th>\n",
       "      <td>4</td>\n",
       "      <td>0.194768</td>\n",
       "    </tr>\n",
       "    <tr>\n",
       "      <th>4</th>\n",
       "      <td>5</td>\n",
       "      <td>0.194138</td>\n",
       "    </tr>\n",
       "  </tbody>\n",
       "</table>\n",
       "</div>"
      ],
      "text/plain": [
       "   Epoch      Loss\n",
       "0      1  0.195379\n",
       "1      2  0.195063\n",
       "2      3  0.195006\n",
       "3      4  0.194768\n",
       "4      5  0.194138"
      ]
     },
     "execution_count": 34,
     "metadata": {},
     "output_type": "execute_result"
    }
   ],
   "source": [
    "df = pd.read_csv(\"/Users/cpare/repos/VICReg_project/csv's/VICReg_metrics.csv\")\n",
    "df.head()"
   ]
  },
  {
   "cell_type": "code",
   "execution_count": 55,
   "metadata": {},
   "outputs": [
    {
     "name": "stdout",
     "output_type": "stream",
     "text": [
      "[ 1  2  3  4  5  6  7  8  9 10 11 12 13 14 15 16 17 18 19 20]\n"
     ]
    },
    {
     "data": {
      "image/png": "[encoded data removed]",
      "text/plain": [
       "<Figure size 432x288 with 1 Axes>"
      ]
     },
     "metadata": {
      "needs_background": "light"
     },
     "output_type": "display_data"
    }
   ],
   "source": [
    "epochs = np.array(df.iloc[:,0])\n",
    "losses = np.array(df.iloc[:,1])\n",
    "print(epochs)\n",
    "plt.plot(epochs, losses, label = \"train loss\", color = \"red\")\n",
    "plt.xlabel(\"Epochs\")\n",
    "plt.ylabel(\"Loss\")\n",
    "plt.xlim(1,20)\n",
    "plt.title(\"VICReg Loss for MNIST Dataset\")\n",
    "plt.legend()\n",
    "plt.savefig(\"/Users/cpare/repos/VICReg_project/plots/loss_20epochs.png\")\n"
   ]
  },
  {
   "cell_type": "code",
   "execution_count": null,
   "metadata": {},
   "outputs": [],
   "source": []
  }
 ],
 "metadata": {
  "kernelspec": {
   "display_name": "myenv",
   "language": "python",
   "name": "python3"
  },
  "language_info": {
   "codemirror_mode": {
    "name": "ipython",
    "version": 3
   },
   "file_extension": ".py",
   "mimetype": "text/x-python",
   "name": "python",
   "nbconvert_exporter": "python",
   "pygments_lexer": "ipython3",
   "version": "3.9.7"
  },
  "orig_nbformat": 4,
  "vscode": {
   "interpreter": {
    "hash": "778ce5d35af1dda3b7990d3b1b584fe8bd02fd4e1fafa51f18e59d98f620d5dc"
   }
  }
 },
 "nbformat": 4,
 "nbformat_minor": 2
}
