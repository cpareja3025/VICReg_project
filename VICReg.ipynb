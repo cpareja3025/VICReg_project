{
 "cells": [
  {
   "cell_type": "code",
   "execution_count": 2,
   "metadata": {},
   "outputs": [],
   "source": [
    "import torch\n",
    "import torch.nn as nn\n",
    "import torch.nn.functional as F\n",
    "import torchvision\n",
    "import torchvision.transforms as transforms\n",
    "import numpy as np\n",
    "from torch.utils.data import DataLoader, Dataset\n",
    "from torch.utils.data import random_split\n",
    "import matplotlib.pyplot as plt\n",
    "from torchinfo import summary"
   ]
  },
  {
   "cell_type": "code",
   "execution_count": 2,
   "metadata": {},
   "outputs": [
    {
     "name": "stdout",
     "output_type": "stream",
     "text": [
      "5\n"
     ]
    },
    {
     "data": {
      "text/plain": [
       "<matplotlib.image.AxesImage at 0x7fb27909faf0>"
      ]
     },
     "execution_count": 2,
     "metadata": {},
     "output_type": "execute_result"
    },
    {
     "data": {
      "image/png": "[encoded data removed]",
      "text/plain": [
       "<Figure size 432x288 with 1 Axes>"
      ]
     },
     "metadata": {
      "needs_background": "light"
     },
     "output_type": "display_data"
    }
   ],
   "source": [
    "train_dataset = torchvision.datasets.MNIST(root=\"./\", train=True, download=True)\n",
    "image, label = train_dataset[11]\n",
    "print(label)\n",
    "plt.imshow(image, cmap=\"gray\")\n",
    "a = transforms.Resize(252)(image)\n",
    "plt.imshow(a, cmap=\"gray\")"
   ]
  },
  {
   "attachments": {},
   "cell_type": "markdown",
   "metadata": {},
   "source": [
    "# Training Vanilla CNN for MNIST Data"
   ]
  },
  {
   "cell_type": "code",
   "execution_count": 4,
   "metadata": {},
   "outputs": [
    {
     "name": "stdout",
     "output_type": "stream",
     "text": [
      "Epoch [1/1], Step [100/1875], Loss: 0.6733 \n",
      "Epoch [1/1], Step [200/1875], Loss: 0.2787 \n",
      "Epoch [1/1], Step [300/1875], Loss: 0.3791 \n",
      "Epoch [1/1], Step [400/1875], Loss: 0.3074 \n",
      "Epoch [1/1], Step [500/1875], Loss: 0.1071 \n",
      "Epoch [1/1], Step [600/1875], Loss: 0.1207 \n",
      "Epoch [1/1], Step [700/1875], Loss: 0.1889 \n",
      "Epoch [1/1], Step [800/1875], Loss: 0.4430 \n",
      "Epoch [1/1], Step [900/1875], Loss: 0.2902 \n",
      "Epoch [1/1], Step [1000/1875], Loss: 0.1656 \n",
      "Epoch [1/1], Step [1100/1875], Loss: 0.0938 \n",
      "Epoch [1/1], Step [1200/1875], Loss: 0.2238 \n",
      "Epoch [1/1], Step [1300/1875], Loss: 0.0591 \n",
      "Epoch [1/1], Step [1400/1875], Loss: 0.0747 \n",
      "Epoch [1/1], Step [1500/1875], Loss: 0.1415 \n",
      "Epoch [1/1], Step [1600/1875], Loss: 0.0189 \n",
      "Epoch [1/1], Step [1700/1875], Loss: 0.0102 \n",
      "Epoch [1/1], Step [1800/1875], Loss: 0.0465 \n"
     ]
    }
   ],
   "source": [
    "#Hyper Parameters\n",
    "batch_size = 32\n",
    "learning_rate = 0.001\n",
    "epochs = 1\n",
    "device = torch.device('cuda' if torch.cuda.is_available() else 'cpu')\n",
    "\n",
    "transform = transforms.Compose([transforms.ToTensor(), transforms.Normalize(mean=0.1307, std=0.3081)])\n",
    "train_dataset = torchvision.datasets.MNIST(root=\"./\", train=True, download=True, transform=transform)\n",
    "test_dataset = torchvision.datasets.MNIST(root=\"./\", train=False, download=True, transform=transform)\n",
    "train_loader = DataLoader(train_dataset, batch_size=batch_size, shuffle=True)\n",
    "test_loader = DataLoader(test_dataset, batch_size=batch_size, shuffle=True)\n",
    "\n",
    "class CNN(nn.Module):\n",
    "    def __init__(self):\n",
    "        super(CNN, self).__init__()\n",
    "        self.conv1 = nn.Conv2d(1, 12, kernel_size=1)\n",
    "        self.conv2 = nn.Conv2d(12, 6, kernel_size=3)\n",
    "        self.max_pool = nn.MaxPool2d(2, 2)\n",
    "        self.fc1 = nn.Linear(1014, 256)\n",
    "        self.fc2 = nn.Linear(256, 128)\n",
    "        self.fc3 = nn.Linear(128,10)\n",
    "\n",
    "    def forward(self, x):\n",
    "        x = F.relu(self.conv1(x))\n",
    "        x = F.relu(self.conv2(x))\n",
    "        x = self.max_pool(x)\n",
    "        x = x.view(-1, 1014)\n",
    "        x = F.relu(self.fc1(x))\n",
    "        x = F.relu(self.fc2(x))\n",
    "        x = self.fc3(x)\n",
    "        return x\n",
    "    \n",
    "model = CNN().to(device=device)\n",
    "criterion = nn.CrossEntropyLoss()\n",
    "optimizer = torch.optim.Adam(model.parameters(), lr = learning_rate)\n",
    "\n",
    "n_total_steps = len(train_loader)\n",
    "for epoch in range(epochs):\n",
    "    for i, (images, labels) in enumerate(train_loader):\n",
    "        images = images.to(device)\n",
    "        labels = labels.to(device)\n",
    "\n",
    "        outputs = model(images)\n",
    "        loss = criterion(outputs, labels)\n",
    "\n",
    "        optimizer.zero_grad()\n",
    "        loss.backward()\n",
    "        optimizer.step()\n",
    "\n",
    "        if (i+1) % 100 == 0:\n",
    "            print(f'Epoch [{epoch+1}/{epochs}], Step [{i+1}/{n_total_steps}], Loss: {loss.item():.4f} ')"
   ]
  },
  {
   "cell_type": "code",
   "execution_count": 5,
   "metadata": {},
   "outputs": [
    {
     "name": "stdout",
     "output_type": "stream",
     "text": [
      "torch.Size([64, 1, 20, 20])\n",
      "torch.Size([64, 12, 20, 20])\n",
      "torch.Size([64, 6, 18, 18])\n",
      "torch.Size([64, 6, 9, 9])\n",
      "torch.Size([64, 256])\n",
      "torch.Size([64, 128])\n",
      "torch.Size([64, 10])\n"
     ]
    }
   ],
   "source": [
    "def data_aug(img_tensor):\n",
    "    aug = transforms.RandomResizedCrop(20, scale=(0.08,0.1))(img_tensor)\n",
    "    aug = transforms.RandomHorizontalFlip(p=0.5)(aug)\n",
    "    aug = transforms.ColorJitter(brightness=0.4, contrast=0.4, saturation=0.2, hue=0.1)(aug)\n",
    "    #aug = transforms.RandomGrayscale(0.2)(aug)\n",
    "    aug = transforms.GaussianBlur(kernel_size=23, sigma=0.5)(aug)\n",
    "    aug = transforms.RandomSolarize(threshold=0.3,p=0.1)(aug)\n",
    "    #aug = transforms.Normalize()(aug)\n",
    "    return aug\n",
    "    \n",
    "\n",
    "N = 64\n",
    "data = torch.rand(N,1,20,20)\n",
    "data = data_aug(data)\n",
    "print(data.shape)\n",
    "conv1 = nn.Conv2d(1, 12, kernel_size=1)\n",
    "conv2 = nn.Conv2d(12, 6, kernel_size=3)\n",
    "max_pool = nn.MaxPool2d(2, 2)\n",
    "x = conv1(data)\n",
    "print(x.shape)\n",
    "x = conv2(x)\n",
    "print(x.shape)\n",
    "x = max_pool(x)\n",
    "print(x.shape)\n",
    "x = x.view(-1,486)\n",
    "fc1 = nn.Linear(486, 256)\n",
    "x = fc1(x)\n",
    "print(x.shape)\n",
    "fc2 = nn.Linear(256, 128)\n",
    "x = fc2(x)\n",
    "print(x.shape)\n",
    "fc3 = nn.Linear(128,10)\n",
    "x = fc3(x)\n",
    "print(x.shape)"
   ]
  },
  {
   "attachments": {},
   "cell_type": "markdown",
   "metadata": {},
   "source": [
    "## Testing Torch Augmentations"
   ]
  },
  {
   "cell_type": "code",
   "execution_count": 7,
   "metadata": {},
   "outputs": [
    {
     "name": "stdout",
     "output_type": "stream",
     "text": [
      "Epoch [1/1], Step [100/1875], Loss: 2.3179 \n",
      "Epoch [1/1], Step [200/1875], Loss: 2.3040 \n",
      "Epoch [1/1], Step [300/1875], Loss: 2.3448 \n",
      "Epoch [1/1], Step [400/1875], Loss: 2.2355 \n",
      "Epoch [1/1], Step [500/1875], Loss: 2.2036 \n",
      "Epoch [1/1], Step [600/1875], Loss: 2.2517 \n",
      "Epoch [1/1], Step [700/1875], Loss: 2.2996 \n",
      "Epoch [1/1], Step [800/1875], Loss: 2.2830 \n",
      "Epoch [1/1], Step [900/1875], Loss: 2.2156 \n",
      "Epoch [1/1], Step [1000/1875], Loss: 2.2059 \n",
      "Epoch [1/1], Step [1100/1875], Loss: 2.3068 \n",
      "Epoch [1/1], Step [1200/1875], Loss: 2.2305 \n",
      "Epoch [1/1], Step [1300/1875], Loss: 2.3327 \n",
      "Epoch [1/1], Step [1400/1875], Loss: 2.2938 \n",
      "Epoch [1/1], Step [1500/1875], Loss: 2.0780 \n",
      "Epoch [1/1], Step [1600/1875], Loss: 2.1877 \n",
      "Epoch [1/1], Step [1700/1875], Loss: 2.1863 \n",
      "Epoch [1/1], Step [1800/1875], Loss: 2.1506 \n"
     ]
    }
   ],
   "source": [
    "#Hyper Parameters\n",
    "batch_size = 32\n",
    "learning_rate = 0.001\n",
    "epochs = 1\n",
    "\n",
    "transform = transforms.Compose([transforms.ToTensor(), transforms.Normalize(mean=0.1307, std=0.3081)])\n",
    "train_dataset = torchvision.datasets.MNIST(root=\"./\", train=True, download=True, transform=transform)\n",
    "test_dataset = torchvision.datasets.MNIST(root=\"./\", train=False, download=True, transform=transform)\n",
    "train_loader = DataLoader(train_dataset, batch_size=batch_size, shuffle=True)\n",
    "test_loader = DataLoader(test_dataset, batch_size=batch_size, shuffle=True)\n",
    "\n",
    "device = torch.device('cuda' if torch.cuda.is_available() else 'cpu')\n",
    "\n",
    "\n",
    "class CNN_augs(nn.Module):\n",
    "    def __init__(self):\n",
    "        super(CNN_augs, self).__init__()\n",
    "        self.conv1 = nn.Conv2d(1, 12, kernel_size=1)\n",
    "        self.conv2 = nn.Conv2d(12, 6, kernel_size=3)\n",
    "        self.max_pool = nn.MaxPool2d(2, 2)\n",
    "        self.fc1 = nn.Linear(486, 256)\n",
    "        self.fc2 = nn.Linear(256, 128)\n",
    "        # change output channels to multiples of 2 --> maybe 16, 32??\n",
    "        self.fc3 = nn.Linear(128,10)\n",
    "\n",
    "    def forward(self, x):\n",
    "        x = F.relu(self.conv1(x))\n",
    "        x = F.relu(self.conv2(x))\n",
    "        x = self.max_pool(x)\n",
    "        x = x.view(-1,486)\n",
    "        x = F.relu(self.fc1(x))\n",
    "        x = F.relu(self.fc2(x))\n",
    "        x = self.fc3(x)\n",
    "        return x\n",
    "    def data_aug(self, img_tensor):\n",
    "        aug = transforms.RandomResizedCrop(20, scale=(0.08,0.1))(img_tensor)\n",
    "        aug = transforms.RandomHorizontalFlip(p=0.5)(aug)\n",
    "        aug = transforms.ColorJitter(brightness=0.4, contrast=0.4, saturation=0.2, hue=0.1)(aug)\n",
    "        #aug = transforms.RandomGrayscale(0.2)(aug)\n",
    "        aug = transforms.GaussianBlur(kernel_size=23, sigma=0.5)(aug)\n",
    "        aug = transforms.RandomSolarize(threshold=0.3,p=0.1)(aug)\n",
    "        #aug = transforms.Normalize()(aug)\n",
    "        return aug\n",
    "    \n",
    "\n",
    "model = CNN_augs().to(device=device)\n",
    "criterion = nn.CrossEntropyLoss()\n",
    "optimizer = torch.optim.Adam(model.parameters(), lr = learning_rate)\n",
    "\n",
    "n_total_steps = len(train_loader)\n",
    "for epoch in range(epochs):\n",
    "    for i, (images, labels) in enumerate(train_loader):\n",
    "        images = images.to(device)\n",
    "        images = model.data_aug(images)\n",
    "        labels = labels.to(device)\n",
    "\n",
    "        outputs = model(images)\n",
    "        # compute loss between two different data augs!\n",
    "        loss = criterion(outputs, labels)\n",
    "\n",
    "        optimizer.zero_grad()\n",
    "        loss.backward()\n",
    "        optimizer.step()\n",
    "\n",
    "        if (i+1) % 100 == 0:\n",
    "            print(f'Epoch [{epoch+1}/{epochs}], Step [{i+1}/{n_total_steps}], Loss: {loss.item():.4f} ')"
   ]
  },
  {
   "cell_type": "code",
   "execution_count": 6,
   "metadata": {},
   "outputs": [
    {
     "data": {
      "text/plain": [
       "==========================================================================================\n",
       "Layer (type:depth-idx)                   Output Shape              Param #\n",
       "==========================================================================================\n",
       "CNN_augs                                 [128, 10]                 --\n",
       "├─Conv2d: 1-1                            [128, 12, 20, 20]         24\n",
       "├─Conv2d: 1-2                            [128, 6, 18, 18]          654\n",
       "├─MaxPool2d: 1-3                         [128, 6, 9, 9]            --\n",
       "├─Linear: 1-4                            [128, 256]                124,672\n",
       "├─Linear: 1-5                            [128, 128]                32,896\n",
       "├─Linear: 1-6                            [128, 10]                 1,290\n",
       "==========================================================================================\n",
       "Total params: 159,536\n",
       "Trainable params: 159,536\n",
       "Non-trainable params: 0\n",
       "Total mult-adds (M): 48.69\n",
       "==========================================================================================\n",
       "Input size (MB): 0.20\n",
       "Forward/backward pass size (MB): 7.31\n",
       "Params size (MB): 0.64\n",
       "Estimated Total Size (MB): 8.15\n",
       "=========================================================================================="
      ]
     },
     "execution_count": 6,
     "metadata": {},
     "output_type": "execute_result"
    }
   ],
   "source": [
    "model = CNN_augs().to(device=device)\n",
    "summary(model, input_size=[(batch_size, 1, 20, 20)])"
   ]
  },
  {
   "attachments": {},
   "cell_type": "markdown",
   "metadata": {},
   "source": [
    "# Implementing VICReg"
   ]
  },
  {
   "cell_type": "code",
   "execution_count": 31,
   "metadata": {},
   "outputs": [
    {
     "name": "stdout",
     "output_type": "stream",
     "text": [
      "Epoch [1/5], Step [100/938], Loss: 0.1966 \n",
      "Epoch [1/5], Step [200/938], Loss: 0.1955 \n",
      "Epoch [1/5], Step [300/938], Loss: 0.1955 \n",
      "Epoch [1/5], Step [400/938], Loss: 0.1956 \n",
      "Epoch [1/5], Step [500/938], Loss: 0.1955 \n",
      "Epoch [1/5], Step [600/938], Loss: 0.1959 \n",
      "Epoch [1/5], Step [700/938], Loss: 0.1942 \n",
      "Epoch [1/5], Step [800/938], Loss: 0.1950 \n",
      "Epoch [1/5], Step [900/938], Loss: 0.1955 \n",
      "Epoch [2/5], Step [100/938], Loss: 0.1957 \n",
      "Epoch [2/5], Step [200/938], Loss: 0.1956 \n",
      "Epoch [2/5], Step [300/938], Loss: 0.1950 \n",
      "Epoch [2/5], Step [400/938], Loss: 0.1949 \n",
      "Epoch [2/5], Step [500/938], Loss: 0.1941 \n",
      "Epoch [2/5], Step [600/938], Loss: 0.1950 \n",
      "Epoch [2/5], Step [700/938], Loss: 0.1957 \n",
      "Epoch [2/5], Step [800/938], Loss: 0.1947 \n",
      "Epoch [2/5], Step [900/938], Loss: 0.1934 \n",
      "Epoch [3/5], Step [100/938], Loss: 0.1948 \n",
      "Epoch [3/5], Step [200/938], Loss: 0.1964 \n",
      "Epoch [3/5], Step [300/938], Loss: 0.1950 \n",
      "Epoch [3/5], Step [400/938], Loss: 0.1948 \n",
      "Epoch [3/5], Step [500/938], Loss: 0.1961 \n",
      "Epoch [3/5], Step [600/938], Loss: 0.1956 \n",
      "Epoch [3/5], Step [700/938], Loss: 0.1949 \n",
      "Epoch [3/5], Step [800/938], Loss: 0.1936 \n",
      "Epoch [3/5], Step [900/938], Loss: 0.1964 \n",
      "Epoch [4/5], Step [100/938], Loss: 0.1947 \n",
      "Epoch [4/5], Step [200/938], Loss: 0.1946 \n",
      "Epoch [4/5], Step [300/938], Loss: 0.1953 \n",
      "Epoch [4/5], Step [400/938], Loss: 0.1939 \n",
      "Epoch [4/5], Step [500/938], Loss: 0.1914 \n",
      "Epoch [4/5], Step [600/938], Loss: 0.1944 \n",
      "Epoch [4/5], Step [700/938], Loss: 0.1933 \n",
      "Epoch [4/5], Step [800/938], Loss: 0.1927 \n",
      "Epoch [4/5], Step [900/938], Loss: 0.1957 \n",
      "Epoch [5/5], Step [100/938], Loss: 0.1926 \n",
      "Epoch [5/5], Step [200/938], Loss: 0.1950 \n",
      "Epoch [5/5], Step [300/938], Loss: 0.1949 \n",
      "Epoch [5/5], Step [400/938], Loss: 0.1951 \n",
      "Epoch [5/5], Step [500/938], Loss: 0.1941 \n",
      "Epoch [5/5], Step [600/938], Loss: 0.1957 \n",
      "Epoch [5/5], Step [700/938], Loss: 0.1942 \n",
      "Epoch [5/5], Step [800/938], Loss: 0.1931 \n",
      "Epoch [5/5], Step [900/938], Loss: 0.1940 \n"
     ]
    }
   ],
   "source": [
    "#Hyper Parameters\n",
    "batch_size = 64\n",
    "learning_rate = 0.001\n",
    "epochs = 5\n",
    "# Dimension (D) of the representations\n",
    "D = 10\n",
    "lam = 1\n",
    "mu = 0.1\n",
    "nu = 1e-09\n",
    "\n",
    "transform = transforms.Compose([transforms.ToTensor(), transforms.Normalize(mean=0.1307, std=0.3081)])\n",
    "train_dataset = torchvision.datasets.MNIST(root=\"./\", train=True, download=True, transform=transform)\n",
    "test_dataset = torchvision.datasets.MNIST(root=\"./\", train=False, download=True, transform=transform)\n",
    "train_loader = DataLoader(train_dataset, batch_size=batch_size, shuffle=True)\n",
    "test_loader = DataLoader(test_dataset, batch_size=batch_size, shuffle=True)\n",
    "\n",
    "device = torch.device('cuda' if torch.cuda.is_available() else 'cpu')\n",
    "\n",
    "\n",
    "class CNN_augs(nn.Module):\n",
    "    def __init__(self):\n",
    "        super(CNN_augs, self).__init__()\n",
    "        self.conv1 = nn.Conv2d(1, 12, kernel_size=1)\n",
    "        self.conv2 = nn.Conv2d(12, 6, kernel_size=3)\n",
    "        self.max_pool = nn.MaxPool2d(2, 2)\n",
    "        self.fc1 = nn.Linear(486, 256)\n",
    "        self.fc2 = nn.Linear(256, 128)\n",
    "        # change output channels to multiples of 2 --> maybe 16, 32??\n",
    "        self.fc3 = nn.Linear(128,D)\n",
    "\n",
    "    def forward(self, x):\n",
    "        x = F.relu(self.conv1(x))\n",
    "        x = F.relu(self.conv2(x))\n",
    "        x = self.max_pool(x)\n",
    "        x = x.view(-1,486)\n",
    "        x = F.relu(self.fc1(x))\n",
    "        x = F.relu(self.fc2(x))\n",
    "        x = self.fc3(x)\n",
    "        return x\n",
    "    def data_aug(self, img_tensor):\n",
    "        aug = transforms.RandomResizedCrop(20, scale=(0.08,0.1))(img_tensor)\n",
    "        aug = transforms.RandomHorizontalFlip(p=0.5)(aug)\n",
    "        aug = transforms.ColorJitter(brightness=0.4, contrast=0.4, saturation=0.2, hue=0.1)(aug)\n",
    "        #aug = transforms.RandomGrayscale(0.2)(aug)\n",
    "        aug = transforms.GaussianBlur(kernel_size=23, sigma=0.5)(aug)\n",
    "        aug = transforms.RandomSolarize(threshold=0.3,p=0.1)(aug)\n",
    "        #aug = transforms.Normalize()(aug)\n",
    "        return aug\n",
    "    def off_diagonal(self, x):\n",
    "        n, m = x.shape\n",
    "        assert n == m\n",
    "        return x.flatten()[:-1].view(n - 1, n + 1)[:, 1:].flatten()\n",
    "        \n",
    "    \n",
    "\n",
    "model_vicreg = CNN_augs().to(device=device)\n",
    "# criterion = nn.CrossEntropyLoss()\n",
    "optimizer = torch.optim.Adam(model_vicreg.parameters(), lr = learning_rate)\n",
    "\n",
    "n_total_steps = len(train_loader)\n",
    "for epoch in range(epochs):\n",
    "    for i, (images, labels) in enumerate(train_loader):\n",
    "        images = images.to(device)\n",
    "        # two randomly augmented versions of image\n",
    "        image_i = model_vicreg.data_aug(images)\n",
    "        image_j = model_vicreg.data_aug(images)\n",
    "\n",
    "        labels = labels.to(device)\n",
    "        #compute representations\n",
    "        output_i = model_vicreg(image_i)\n",
    "        output_j = model_vicreg(image_j)\n",
    "\n",
    "        #invariance loss\n",
    "        sim_loss = nn.MSELoss()\n",
    "        sim_loss = lam * sim_loss(output_i, output_j)\n",
    "\n",
    "        #variance loss\n",
    "        std_output_i = torch.sqrt(torch.var(output_i, dim=0) + 1e-04)\n",
    "        std_output_j = torch.sqrt(torch.var(output_j, dim = 0) + 1e-04)\n",
    "        std_loss = torch.mean(F.relu(1-std_output_i)) + torch.mean(F.relu(1-std_output_j))\n",
    "\n",
    "        #covariance loss\n",
    "        output_i = output_i - torch.mean(output_i, dim=0)\n",
    "        output_j = output_j - torch.mean(output_j, dim=0)\n",
    "        cov_output_i = (torch.matmul(torch.transpose(output_i, 0, 1), output_i) / (batch_size -1))\n",
    "        cov_output_j = (torch.matmul(torch.transpose(output_j, 0, 1), output_j) / (batch_size -1))\n",
    "        cov_loss = (model_vicreg.off_diagonal(cov_output_i).pow(2).sum() / D) + (model_vicreg.off_diagonal(cov_output_j).pow(2).sum() / D)\n",
    "\n",
    "        # compute loss between two different data augs!\n",
    "        loss = (sim_loss) + (mu * std_loss) + (nu*cov_loss)\n",
    "\n",
    "        optimizer.zero_grad()\n",
    "        loss.backward()\n",
    "        optimizer.step()\n",
    "\n",
    "        if (i+1) % 100 == 0:\n",
    "            print(f'Epoch [{epoch+1}/{epochs}], Step [{i+1}/{n_total_steps}], Loss: {loss.item():.4f} ')"
   ]
  },
  {
   "cell_type": "markdown",
   "metadata": {},
   "source": []
  },
  {
   "cell_type": "markdown",
   "metadata": {},
   "source": []
  },
  {
   "attachments": {},
   "cell_type": "markdown",
   "metadata": {},
   "source": [
    "## Downstream tasks\n",
    "- **Classification**\n",
    "- Regression\n",
    "- Simulate representation of the data\n",
    "- Autoencoder --> anomaly detection"
   ]
  },
  {
   "cell_type": "code",
   "execution_count": 80,
   "metadata": {},
   "outputs": [
    {
     "data": {
      "text/plain": [
       "tensor([[4, 0, 0, 0],\n",
       "        [0, 5, 0, 0],\n",
       "        [0, 0, 6, 0],\n",
       "        [0, 0, 0, 7]])"
      ]
     },
     "execution_count": 80,
     "metadata": {},
     "output_type": "execute_result"
    }
   ],
   "source": [
    "a = torch.tensor([[4,0,0,0],[0,5,0,0],[0,0,6,0],[0,0,0,7]])\n",
    "a"
   ]
  },
  {
   "cell_type": "code",
   "execution_count": 81,
   "metadata": {},
   "outputs": [],
   "source": [
    "def off_diagonal(x):\n",
    "    n, m = x.shape\n",
    "    # checking we have a square matrix where columns and rows are the same\n",
    "    assert n == m\n",
    "    off_diag = x.clone()\n",
    "    off_diag = off_diag.flatten()\n",
    "    # getting all elements except the last corner element\n",
    "    off_diag  = off_diag[:-1]\n",
    "    # reshape the tensor with remaining elements\n",
    "    off_diag = off_diag.view(n-1, n+1)\n",
    "    # the first slice is gathering all rows, the second slice is getting every columns except the first \n",
    "    off_diag = off_diag[:, 1:]\n",
    "    # flattening matrix\n",
    "    off_diag = off_diag.flatten()\n",
    "    return off_diag\n",
    "    #return x.flatten()[:-1].view(n - 1, n + 1)[:, 1:].flatten()"
   ]
  },
  {
   "cell_type": "code",
   "execution_count": 83,
   "metadata": {},
   "outputs": [
    {
     "data": {
      "text/plain": [
       "torch.Size([12])"
      ]
     },
     "execution_count": 83,
     "metadata": {},
     "output_type": "execute_result"
    }
   ],
   "source": [
    "off = off_diagonal(a)\n",
    "off.shape"
   ]
  },
  {
   "cell_type": "code",
   "execution_count": 87,
   "metadata": {},
   "outputs": [
    {
     "data": {
      "text/plain": [
       "tensor(26)"
      ]
     },
     "execution_count": 87,
     "metadata": {},
     "output_type": "execute_result"
    }
   ],
   "source": [
    "a = torch.tensor([1,4,3])\n",
    "b = torch.pow(a,2).sum()\n",
    "b"
   ]
  },
  {
   "cell_type": "code",
   "execution_count": 19,
   "metadata": {},
   "outputs": [
    {
     "name": "stdout",
     "output_type": "stream",
     "text": [
      "tensor([[1, 2, 3],\n",
      "        [4, 5, 6],\n",
      "        [7, 8, 9]])\n",
      "tensor([[1, 4, 7],\n",
      "        [2, 5, 8],\n",
      "        [3, 6, 9]])\n"
     ]
    }
   ],
   "source": [
    "a = torch.tensor([[1,2,3], [4,5,6], [7,8,9]])\n",
    "print(a)\n",
    "tran = torch.transpose(a, 0, 1)\n",
    "print(tran)"
   ]
  },
  {
   "cell_type": "code",
   "execution_count": null,
   "metadata": {},
   "outputs": [],
   "source": []
  }
 ],
 "metadata": {
  "kernelspec": {
   "display_name": "myenv",
   "language": "python",
   "name": "python3"
  },
  "language_info": {
   "codemirror_mode": {
    "name": "ipython",
    "version": 3
   },
   "file_extension": ".py",
   "mimetype": "text/x-python",
   "name": "python",
   "nbconvert_exporter": "python",
   "pygments_lexer": "ipython3",
   "version": "3.9.7"
  },
  "orig_nbformat": 4
 },
 "nbformat": 4,
 "nbformat_minor": 2
}
