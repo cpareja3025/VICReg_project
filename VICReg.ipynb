{
 "cells": [
  {
   "cell_type": "code",
   "execution_count": 1,
   "metadata": {},
   "outputs": [],
   "source": [
    "import torch\n",
    "import torch.nn as nn\n",
    "import torch.nn.functional as F\n",
    "import torchvision\n",
    "import torchvision.transforms as transforms\n",
    "import numpy as np\n",
    "from torch.utils.data import DataLoader, Dataset\n",
    "from torch.utils.data import random_split\n",
    "import matplotlib.pyplot as plt\n",
    "from torchinfo import summary"
   ]
  },
  {
   "cell_type": "code",
   "execution_count": 8,
   "metadata": {},
   "outputs": [
    {
     "name": "stdout",
     "output_type": "stream",
     "text": [
      "5\n"
     ]
    },
    {
     "data": {
      "text/plain": [
       "<matplotlib.image.AxesImage at 0x7fe229083fa0>"
      ]
     },
     "execution_count": 8,
     "metadata": {},
     "output_type": "execute_result"
    },
    {
     "data": {
      "image/png": "[encoded data removed]",
      "text/plain": [
       "<Figure size 432x288 with 1 Axes>"
      ]
     },
     "metadata": {
      "needs_background": "light"
     },
     "output_type": "display_data"
    }
   ],
   "source": [
    "train_dataset = torchvision.datasets.MNIST(root=\"./\", train=True, download=True)\n",
    "image, label = train_dataset[11]\n",
    "print(label)\n",
    "plt.imshow(image, cmap=\"gray\")\n",
    "a = transforms.Resize(252)(image)\n",
    "plt.imshow(a, cmap=\"gray\")"
   ]
  },
  {
   "attachments": {},
   "cell_type": "markdown",
   "metadata": {},
   "source": [
    "# Training Vanilla CNN for MNIST Data"
   ]
  },
  {
   "cell_type": "code",
   "execution_count": 11,
   "metadata": {},
   "outputs": [
    {
     "name": "stdout",
     "output_type": "stream",
     "text": [
      "Epoch [1/1], Step [100/469], Loss: 0.3138 \n",
      "Epoch [1/1], Step [200/469], Loss: 0.2063 \n",
      "Epoch [1/1], Step [300/469], Loss: 0.1137 \n",
      "Epoch [1/1], Step [400/469], Loss: 0.1591 \n"
     ]
    }
   ],
   "source": [
    "#Hyper Parameters\n",
    "batch_size = 128\n",
    "learning_rate = 0.001\n",
    "epochs = 1\n",
    "device = torch.device('cuda' if torch.cuda.is_available() else 'cpu')\n",
    "\n",
    "transform = transforms.Compose([transforms.ToTensor(), transforms.Normalize(mean=0.1307, std=0.3081)])\n",
    "train_dataset = torchvision.datasets.MNIST(root=\"./\", train=True, download=True, transform=transform)\n",
    "test_dataset = torchvision.datasets.MNIST(root=\"./\", train=False, download=True, transform=transform)\n",
    "train_loader = DataLoader(train_dataset, batch_size=batch_size, shuffle=True)\n",
    "test_loader = DataLoader(test_dataset, batch_size=batch_size, shuffle=True)\n",
    "\n",
    "class CNN(nn.Module):\n",
    "    def __init__(self):\n",
    "        super(CNN, self).__init__()\n",
    "        self.conv1 = nn.Conv2d(1, 12, kernel_size=1)\n",
    "        self.conv2 = nn.Conv2d(12, 6, kernel_size=3)\n",
    "        self.max_pool = nn.MaxPool2d(2, 2)\n",
    "        self.fc1 = nn.Linear(1014, 256)\n",
    "        self.fc2 = nn.Linear(256, 128)\n",
    "        self.fc3 = nn.Linear(128,10)\n",
    "\n",
    "    def forward(self, x):\n",
    "        x = F.relu(self.conv1(x))\n",
    "        x = F.relu(self.conv2(x))\n",
    "        x = self.max_pool(x)\n",
    "        x = x.view(-1, 1014)\n",
    "        x = F.relu(self.fc1(x))\n",
    "        x = F.relu(self.fc2(x))\n",
    "        x = self.fc3(x)\n",
    "        return x\n",
    "    \n",
    "model = CNN().to(device=device)\n",
    "criterion = nn.CrossEntropyLoss()\n",
    "optimizer = torch.optim.Adam(model.parameters(), lr = learning_rate)\n",
    "\n",
    "n_total_steps = len(train_loader)\n",
    "for epoch in range(epochs):\n",
    "    for i, (images, labels) in enumerate(train_loader):\n",
    "        images = images.to(device)\n",
    "        labels = labels.to(device)\n",
    "\n",
    "        outputs = model(images)\n",
    "        loss = criterion(outputs, labels)\n",
    "\n",
    "        optimizer.zero_grad()\n",
    "        loss.backward()\n",
    "        optimizer.step()\n",
    "\n",
    "        if (i+1) % 100 == 0:\n",
    "            print(f'Epoch [{epoch+1}/{epochs}], Step [{i+1}/{n_total_steps}], Loss: {loss.item():.4f} ')"
   ]
  },
  {
   "cell_type": "code",
   "execution_count": 15,
   "metadata": {},
   "outputs": [
    {
     "name": "stdout",
     "output_type": "stream",
     "text": [
      "torch.Size([64, 1, 20, 20])\n",
      "torch.Size([64, 12, 20, 20])\n",
      "torch.Size([64, 6, 18, 18])\n",
      "torch.Size([64, 6, 9, 9])\n",
      "torch.Size([64, 256])\n",
      "torch.Size([64, 128])\n",
      "torch.Size([64, 10])\n"
     ]
    }
   ],
   "source": [
    "def data_aug(img_tensor):\n",
    "    aug = transforms.RandomResizedCrop(20, scale=(0.08,0.1))(img_tensor)\n",
    "    aug = transforms.RandomHorizontalFlip(p=0.5)(aug)\n",
    "    aug = transforms.ColorJitter(brightness=0.4, contrast=0.4, saturation=0.2, hue=0.1)(aug)\n",
    "    #aug = transforms.RandomGrayscale(0.2)(aug)\n",
    "    aug = transforms.GaussianBlur(kernel_size=23, sigma=0.5)(aug)\n",
    "    aug = transforms.RandomSolarize(threshold=0.3,p=0.1)(aug)\n",
    "    #aug = transforms.Normalize()(aug)\n",
    "    return aug\n",
    "    \n",
    "\n",
    "N = 64\n",
    "data = torch.rand(N,1,20,20)\n",
    "data = data_aug(data)\n",
    "print(data.shape)\n",
    "conv1 = nn.Conv2d(1, 12, kernel_size=1)\n",
    "conv2 = nn.Conv2d(12, 6, kernel_size=3)\n",
    "max_pool = nn.MaxPool2d(2, 2)\n",
    "x = conv1(data)\n",
    "print(x.shape)\n",
    "x = conv2(x)\n",
    "print(x.shape)\n",
    "x = max_pool(x)\n",
    "print(x.shape)\n",
    "x = x.view(-1,486)\n",
    "fc1 = nn.Linear(486, 256)\n",
    "x = fc1(x)\n",
    "print(x.shape)\n",
    "fc2 = nn.Linear(256, 128)\n",
    "x = fc2(x)\n",
    "print(x.shape)\n",
    "fc3 = nn.Linear(128,10)\n",
    "x = fc3(x)\n",
    "print(x.shape)"
   ]
  },
  {
   "attachments": {},
   "cell_type": "markdown",
   "metadata": {},
   "source": [
    "## Testing Torch Augmentations"
   ]
  },
  {
   "cell_type": "code",
   "execution_count": 13,
   "metadata": {},
   "outputs": [
    {
     "name": "stdout",
     "output_type": "stream",
     "text": [
      "Epoch [1/1], Step [100/469], Loss: 2.3023 \n",
      "Epoch [1/1], Step [200/469], Loss: 2.2794 \n",
      "Epoch [1/1], Step [300/469], Loss: 2.2823 \n",
      "Epoch [1/1], Step [400/469], Loss: 2.2718 \n"
     ]
    }
   ],
   "source": [
    "#Hyper Parameters\n",
    "batch_size = 128\n",
    "learning_rate = 0.001\n",
    "epochs = 1\n",
    "\n",
    "transform = transforms.Compose([transforms.ToTensor(), transforms.Normalize(mean=0.1307, std=0.3081)])\n",
    "train_dataset = torchvision.datasets.MNIST(root=\"./\", train=True, download=True, transform=transform)\n",
    "test_dataset = torchvision.datasets.MNIST(root=\"./\", train=False, download=True, transform=transform)\n",
    "train_loader = DataLoader(train_dataset, batch_size=batch_size, shuffle=True)\n",
    "test_loader = DataLoader(test_dataset, batch_size=batch_size, shuffle=True)\n",
    "\n",
    "device = torch.device('cuda' if torch.cuda.is_available() else 'cpu')\n",
    "\n",
    "\n",
    "class CNN_augs(nn.Module):\n",
    "    def __init__(self):\n",
    "        super(CNN_augs, self).__init__()\n",
    "        self.conv1 = nn.Conv2d(1, 12, kernel_size=1)\n",
    "        self.conv2 = nn.Conv2d(12, 6, kernel_size=3)\n",
    "        self.max_pool = nn.MaxPool2d(2, 2)\n",
    "        self.fc1 = nn.Linear(486, 256)\n",
    "        self.fc2 = nn.Linear(256, 128)\n",
    "        # change output channels to multiples of 2 --> maybe 16, 32??\n",
    "        self.fc3 = nn.Linear(128,10)\n",
    "\n",
    "    def forward(self, x):\n",
    "        x = F.relu(self.conv1(x))\n",
    "        x = F.relu(self.conv2(x))\n",
    "        x = self.max_pool(x)\n",
    "        x = x.view(-1,486)\n",
    "        x = F.relu(self.fc1(x))\n",
    "        x = F.relu(self.fc2(x))\n",
    "        x = self.fc3(x)\n",
    "        return x\n",
    "    def data_aug(self, img_tensor):\n",
    "        aug = transforms.RandomResizedCrop(20, scale=(0.08,0.1))(img_tensor)\n",
    "        aug = transforms.RandomHorizontalFlip(p=0.5)(aug)\n",
    "        aug = transforms.ColorJitter(brightness=0.4, contrast=0.4, saturation=0.2, hue=0.1)(aug)\n",
    "        #aug = transforms.RandomGrayscale(0.2)(aug)\n",
    "        aug = transforms.GaussianBlur(kernel_size=23, sigma=0.5)(aug)\n",
    "        aug = transforms.RandomSolarize(threshold=0.3,p=0.1)(aug)\n",
    "        #aug = transforms.Normalize()(aug)\n",
    "        return aug\n",
    "    \n",
    "\n",
    "model = CNN_augs().to(device=device)\n",
    "criterion = nn.CrossEntropyLoss()\n",
    "optimizer = torch.optim.Adam(model.parameters(), lr = learning_rate)\n",
    "\n",
    "n_total_steps = len(train_loader)\n",
    "for epoch in range(epochs):\n",
    "    for i, (images, labels) in enumerate(train_loader):\n",
    "        images = images.to(device)\n",
    "        images = model.data_aug(images)\n",
    "        labels = labels.to(device)\n",
    "\n",
    "        outputs = model(images)\n",
    "        # compute loss between two different data augs!\n",
    "        loss = criterion(outputs, labels)\n",
    "\n",
    "        optimizer.zero_grad()\n",
    "        loss.backward()\n",
    "        optimizer.step()\n",
    "\n",
    "        if (i+1) % 100 == 0:\n",
    "            print(f'Epoch [{epoch+1}/{epochs}], Step [{i+1}/{n_total_steps}], Loss: {loss.item():.4f} ')"
   ]
  },
  {
   "cell_type": "code",
   "execution_count": 6,
   "metadata": {},
   "outputs": [
    {
     "data": {
      "text/plain": [
       "==========================================================================================\n",
       "Layer (type:depth-idx)                   Output Shape              Param #\n",
       "==========================================================================================\n",
       "CNN_augs                                 [128, 10]                 --\n",
       "├─Conv2d: 1-1                            [128, 12, 20, 20]         24\n",
       "├─Conv2d: 1-2                            [128, 6, 18, 18]          654\n",
       "├─MaxPool2d: 1-3                         [128, 6, 9, 9]            --\n",
       "├─Linear: 1-4                            [128, 256]                124,672\n",
       "├─Linear: 1-5                            [128, 128]                32,896\n",
       "├─Linear: 1-6                            [128, 10]                 1,290\n",
       "==========================================================================================\n",
       "Total params: 159,536\n",
       "Trainable params: 159,536\n",
       "Non-trainable params: 0\n",
       "Total mult-adds (M): 48.69\n",
       "==========================================================================================\n",
       "Input size (MB): 0.20\n",
       "Forward/backward pass size (MB): 7.31\n",
       "Params size (MB): 0.64\n",
       "Estimated Total Size (MB): 8.15\n",
       "=========================================================================================="
      ]
     },
     "execution_count": 6,
     "metadata": {},
     "output_type": "execute_result"
    }
   ],
   "source": [
    "model = CNN_augs().to(device=device)\n",
    "summary(model, input_size=[(batch_size, 1, 20, 20)])"
   ]
  },
  {
   "attachments": {},
   "cell_type": "markdown",
   "metadata": {},
   "source": [
    "# Implementing VICReg"
   ]
  },
  {
   "cell_type": "code",
   "execution_count": null,
   "metadata": {},
   "outputs": [],
   "source": [
    "#Hyper Parameters\n",
    "batch_size = 128\n",
    "learning_rate = 0.001\n",
    "epochs = 1\n",
    "#Dimension of the representations\n",
    "D = 10\n",
    "\n",
    "transform = transforms.Compose([transforms.ToTensor(), transforms.Normalize(mean=0.1307, std=0.3081)])\n",
    "train_dataset = torchvision.datasets.MNIST(root=\"./\", train=True, download=True, transform=transform)\n",
    "test_dataset = torchvision.datasets.MNIST(root=\"./\", train=False, download=True, transform=transform)\n",
    "train_loader = DataLoader(train_dataset, batch_size=batch_size, shuffle=True)\n",
    "test_loader = DataLoader(test_dataset, batch_size=batch_size, shuffle=True)\n",
    "\n",
    "device = torch.device('cuda' if torch.cuda.is_available() else 'cpu')\n",
    "\n",
    "\n",
    "class CNN_augs(nn.Module):\n",
    "    def __init__(self):\n",
    "        super(CNN_augs, self).__init__()\n",
    "        self.conv1 = nn.Conv2d(1, 12, kernel_size=1)\n",
    "        self.conv2 = nn.Conv2d(12, 6, kernel_size=3)\n",
    "        self.max_pool = nn.MaxPool2d(2, 2)\n",
    "        self.fc1 = nn.Linear(486, 256)\n",
    "        self.fc2 = nn.Linear(256, 128)\n",
    "        # change output channels to multiples of 2 --> maybe 16, 32??\n",
    "        self.fc3 = nn.Linear(128,D)\n",
    "\n",
    "    def forward(self, x):\n",
    "        x = F.relu(self.conv1(x))\n",
    "        x = F.relu(self.conv2(x))\n",
    "        x = self.max_pool(x)\n",
    "        x = x.view(-1,486)\n",
    "        x = F.relu(self.fc1(x))\n",
    "        x = F.relu(self.fc2(x))\n",
    "        x = self.fc3(x)\n",
    "        return x\n",
    "    def data_aug(self, img_tensor):\n",
    "        aug = transforms.RandomResizedCrop(20, scale=(0.08,0.1))(img_tensor)\n",
    "        aug = transforms.RandomHorizontalFlip(p=0.5)(aug)\n",
    "        aug = transforms.ColorJitter(brightness=0.4, contrast=0.4, saturation=0.2, hue=0.1)(aug)\n",
    "        #aug = transforms.RandomGrayscale(0.2)(aug)\n",
    "        aug = transforms.GaussianBlur(kernel_size=23, sigma=0.5)(aug)\n",
    "        aug = transforms.RandomSolarize(threshold=0.3,p=0.1)(aug)\n",
    "        #aug = transforms.Normalize()(aug)\n",
    "        return aug\n",
    "    \n",
    "\n",
    "model = CNN_augs().to(device=device)\n",
    "criterion = nn.CrossEntropyLoss()\n",
    "optimizer = torch.optim.Adam(model.parameters(), lr = learning_rate)\n",
    "\n",
    "n_total_steps = len(train_loader)\n",
    "for epoch in range(epochs):\n",
    "    for i, (images, labels) in enumerate(train_loader):\n",
    "        images = images.to(device)\n",
    "        # two randomly augmented versions of image\n",
    "        image_i = model.data_aug(images)\n",
    "        image_j = model.data_aug(images)\n",
    "\n",
    "        labels = labels.to(device)\n",
    "        #compute representations\n",
    "        output_i = model(image_i)\n",
    "        output_j = model(image_j)\n",
    "\n",
    "        #invariance loss\n",
    "        sim_loss = nn.MSELoss(image_i, image_j)\n",
    "\n",
    "        #variance loss\n",
    "        std_output_i = torch.sqrt(torch.var(output_i, dim=0) + 1e-04)\n",
    "        std_output_j = torch.sqrt(torch.var(output_j, dim = 0) + 1e-04)\n",
    "        sd_loss = torch.mean(F.relu(1-std_output_i)) + torch.mean(F.relu(1-std_output_j))\n",
    "\n",
    "        #covariance loss\n",
    "        output_i = output_i - torch.mean(output_i, dim=0)\n",
    "        output_j = output_j - torch.mean(output_j, dim=0)\n",
    "        cov_output_i = (torch.matmul(torch.transpose(output_i), output_i) / (batch_size -1))\n",
    "        cov_output_j = (torch.matmul(torch.transpose(output_j), output_j) / (batch_size -1))\n",
    "        #cov_loss = \n",
    "\n",
    "\n",
    "        # compute loss between two different data augs!\n",
    "        loss = criterion(output_i, output_j)\n",
    "\n",
    "        optimizer.zero_grad()\n",
    "        loss.backward()\n",
    "        optimizer.step()\n",
    "\n",
    "        if (i+1) % 100 == 0:\n",
    "            print(f'Epoch [{epoch+1}/{epochs}], Step [{i+1}/{n_total_steps}], Loss: {loss.item():.4f} ')"
   ]
  },
  {
   "attachments": {},
   "cell_type": "markdown",
   "metadata": {},
   "source": [
    "## Downstream tasks\n",
    "- **Classification**\n",
    "- Regression\n",
    "- Simulate representation of the data\n",
    "- Autoencoder --> anomaly detection"
   ]
  }
 ],
 "metadata": {
  "kernelspec": {
   "display_name": "myenv",
   "language": "python",
   "name": "python3"
  },
  "language_info": {
   "codemirror_mode": {
    "name": "ipython",
    "version": 3
   },
   "file_extension": ".py",
   "mimetype": "text/x-python",
   "name": "python",
   "nbconvert_exporter": "python",
   "pygments_lexer": "ipython3",
   "version": "3.9.7"
  },
  "orig_nbformat": 4
 },
 "nbformat": 4,
 "nbformat_minor": 2
}
